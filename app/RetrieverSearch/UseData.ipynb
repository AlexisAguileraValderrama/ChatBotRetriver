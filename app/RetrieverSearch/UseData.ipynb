{
 "cells": [
  {
   "cell_type": "markdown",
   "id": "acd233c6",
   "metadata": {},
   "source": [
    "Intiate haystack database"
   ]
  },
  {
   "cell_type": "code",
   "execution_count": 1,
   "id": "bc02cb27",
   "metadata": {
    "scrolled": false
   },
   "outputs": [],
   "source": [
    "from haystack.document_stores.elasticsearch import ElasticsearchDocumentStore"
   ]
  },
  {
   "cell_type": "code",
   "execution_count": 2,
   "id": "27b7ed40",
   "metadata": {},
   "outputs": [],
   "source": [
    "document_store = ElasticsearchDocumentStore(host='localhost', username='', password='', index='squad_docs')"
   ]
  },
  {
   "cell_type": "code",
   "execution_count": 3,
   "id": "c1e12910",
   "metadata": {},
   "outputs": [
    {
     "data": {
      "text/plain": [
       "{'cluster_name': 'elasticsearch',\n",
       " 'status': 'yellow',\n",
       " 'timed_out': False,\n",
       " 'number_of_nodes': 1,\n",
       " 'number_of_data_nodes': 1,\n",
       " 'active_primary_shards': 4,\n",
       " 'active_shards': 4,\n",
       " 'relocating_shards': 0,\n",
       " 'initializing_shards': 0,\n",
       " 'unassigned_shards': 2,\n",
       " 'delayed_unassigned_shards': 0,\n",
       " 'number_of_pending_tasks': 0,\n",
       " 'number_of_in_flight_fetch': 0,\n",
       " 'task_max_waiting_in_queue_millis': 0,\n",
       " 'active_shards_percent_as_number': 66.66666666666666}"
      ]
     },
     "execution_count": 3,
     "metadata": {},
     "output_type": "execute_result"
    }
   ],
   "source": [
    "import requests\n",
    "res = requests.get('http://localhost:9200/_cluster/health')\n",
    "res.json()"
   ]
  },
  {
   "cell_type": "code",
   "execution_count": 4,
   "id": "e7b05991",
   "metadata": {},
   "outputs": [],
   "source": [
    "from transformers import AutoModelForQuestionAnswering, AutoTokenizer, pipeline\n",
    "\n",
    "model_name = \"deepset/roberta-base-squad2\"\n",
    "\n",
    "# a) Get predictions\n",
    "nlp = pipeline('question-answering', model=model_name, tokenizer=model_name)\n",
    "\n"
   ]
  },
  {
   "cell_type": "code",
   "execution_count": 5,
   "id": "15b24c17",
   "metadata": {},
   "outputs": [],
   "source": [
    "import pickle\n",
    "  \n",
    "with open('nlp_transformer', 'wb') as f:\n",
    " \n",
    "  # Step 3\n",
    "  pickle.dump(nlp, f)"
   ]
  },
  {
   "cell_type": "code",
   "execution_count": 6,
   "id": "31e34610",
   "metadata": {},
   "outputs": [],
   "source": [
    "from haystack.retriever.sparse import BM25Retriever"
   ]
  },
  {
   "cell_type": "code",
   "execution_count": 7,
   "id": "55c57443",
   "metadata": {},
   "outputs": [],
   "source": [
    "retriever = BM25Retriever(document_store)"
   ]
  },
  {
   "cell_type": "code",
   "execution_count": 9,
   "id": "a493fd1c",
   "metadata": {},
   "outputs": [],
   "source": [
    "query = \"What is hatsune miku?\""
   ]
  },
  {
   "cell_type": "code",
   "execution_count": 10,
   "id": "5d5c43da",
   "metadata": {
    "scrolled": true
   },
   "outputs": [],
   "source": [
    "responses = retriever.retrieve(query)"
   ]
  },
  {
   "cell_type": "code",
   "execution_count": null,
   "id": "8b06d4f4",
   "metadata": {},
   "outputs": [],
   "source": []
  },
  {
   "cell_type": "code",
   "execution_count": 11,
   "id": "293efc31",
   "metadata": {},
   "outputs": [
    {
     "data": {
      "text/plain": [
       "[<Document: {'content': 'Miku\\'s popularity has resulted in various references to her in anime. Miku is the protagonist of a manga series named Maker Hikōshiki Hatsune Mix, written by Kei Garō. The manga explores the many possibilities of story-telling and has featured numerous adventures, ranging from giant-sized battles with Hatsune Miku to home exploits. There is therefore no single storyline, and the entire setting within the manga is unofficial. During an episode of Zoku Sayonara, Zetsubou Sensei, Miku is seen auditioning for the voice of Meru Otonashi (Kagamine Rin and Len are referenced in the same episode). Miku\\'s voice is used in one of the ending themes for the anime series Akikan! (episode 12). Moreover, she also sings the ending theme for the anime Yamishibai: Japanese Ghost Stories, called \"Kaikai Emaki\" (怪々絵巻). During an episode in the Lucky Star OVA, Kagami Hiiragi gets magically transformed into Miku cosplay. A character in the anime Kämpfer appears dressed as Miku in episode seven. She also appeared in the large plasma screen in Chrome Shelled Regios as an endorser. She also appears in episode 11 of Baka and Test as a member of class B. Miku also appears in Maria Holic episode 12, when the class is told they have a swim meet. Miku also appears in episode 1 of Himōto! Umaru-chan, in an imagination of what the main character wants to buy. A parody of Miku is also seen in Gintama (episode 237) in the second editor of Gintaman, Daito\\'s anime fantasies. Miku also appeared in the anime Shinkansen Henkei Robo Shinkalion the Animation as a recurring character.[75]', 'content_type': 'text', 'score': 0.6662740471768728, 'meta': {}, 'embedding': None, 'id': 'f39ecc60e21ca00036f82fff93213f77'}>,\n",
       " <Document: {'content': 'Starting on March 15, 2021, Crypton Future Media announced a collaboration with the \"Hatsune Miku Chronicle\" (初音ミク・クロニクル) art exhibition event titled \"Hatsune Miku Chronicle × piapro \"What If You Draw? \"Hatsune Miku\" Software Package Illustration Recruitment!\" (もしもあなたが描いたら？「初音ミク」ソフトウェア パッケージイラスト募集！), a special recruitment for users to draw their own original character named \"Hatsune Miku\" while keeping the basic profile, image and color settings used for Hatsune Miku\\'s initial artwork in 2007 with the winning illustration being made into a special software package based on the submitted work.[26] The award-winning works would be exhibited at the art exhibition \"Hatsune Miku Chronicle\" scheduled to be held in 2021. [27][28][29] Over the course of four months users were able to submit artwork to Piapro using the \"#クロニクル＿ミクｉｆ\" tag.[30] Coinciding with the recruitment, Good Smile Company announced a new Nendoroid figurine based on Hatsune Miku\\'s original concept design now known as Hatsune Miku if Ver. (初音ミク if Ver.).[31] A finalized illustration of the original design by KEI was also announced.[32] On June 29, the contest concluded and three finalists were selected.[33][34] Three awards were given: the \"Best Award\" was awarded to 千代[35], the \"KEI Award\" was awarded to 梨伊荼[36] AND the \"Saki Fujita Award\" was awarded to ろきの.[37] Pre-release images of the Hatsune Miku if Ver. Nendoroid were revealed on July 14th and the illustration by KEI was revealed as well as the announcement of Kagamine Rin & Len if and Megurine Luka if proposals.[38][39] The Nendoroid was placed up for pre-order starting July 15th on the official Good Smile Company store and more pre-release photos were added.[40][41]', 'content_type': 'text', 'score': 0.6590879731978461, 'meta': {}, 'embedding': None, 'id': 'bcc3de63f4a9c61c10ec99150fd62dba'}>,\n",
       " <Document: {'content': 'When KEI illustrated Miku, he was given a color scheme to work with (based on the YAMAHA synthesizers\\' signature blue-green colour) and was asked to draw Miku as an android. Crypton also provided KEI with Miku\\'s detailed concepts, however, Crypton said it was not easy to explain what a \"Vocaloid\" was to him. KEI said he could not create an image of a \"singing computer\" at first, as he did not even know what a \"synthesizer\" was. It took him more than a month to complete the commission.', 'content_type': 'text', 'score': 0.6545016044697198, 'meta': {}, 'embedding': None, 'id': '213ae4631616186eabcd266f6ce555cd'}>,\n",
       " <Document: {'content': 'Sapporo has been a major main target of sponsorship since 2010, with Crypton Future Media sponsoring the winter festivals. The image of Hatsune Miku would appear around the town on public transportation. The image portrayal of Miku that is used is a derivative design called \"Snow Miku\". Although originally, this was simply a recoloring of the normal Hatsune Miku, unique designs have occurred every year since 2011.', 'content_type': 'text', 'score': 0.6433296093888156, 'meta': {}, 'embedding': None, 'id': '5746460ee4626e9a98855ac9f0810020'}>,\n",
       " <Document: {'content': 'A series of rhythm games starting from Hatsune Miku: Project DIVA were produced by Sega under license using Hatsune Miku and other Crypton Vocaloids, as well as \"fan-made\" Vocaloids like Akita Neru. TinierMe also made attire that looks like Miku\\'s for their services, allowing users to make their avatar resemble her.[76][77] The series has sold 6\\xa0million copies.[78] Hatsune Miku and Future Stars: Project Mirai was developed for the Nintendo 3DS. Miku\\'s appearance in this game is based on the Nendoroid series of figures.[79] Hatsune Miku is also briefly referenced in the game Recettear, where a young man stargazing sees \"The Green-Onion Girl\" constellation. Also, in 2013, Saki Fujita voices Fei-Yen HD, a character based on one of Hatsune Miku\\'s modules, in Super Robot Wars UX; this appearance does not use Miku\\'s vocal library. Haruka Sawamura from the Yakuza series, another Sega franchise, can wear Miku\\'s outfit in Yakuza 5, and an ice statue of Miku is also seen in the Sapporo region of the game.', 'content_type': 'text', 'score': 0.63916368034575, 'meta': {}, 'embedding': None, 'id': 'cfc442afe2e9b532207678c16b16e9ab'}>,\n",
       " <Document: {'content': 'Pharrell Williams made a remix of Livetune\\'s song \"Last Night, Goodnight\" featuring Hatsune Miku.[110] On October 8, 2014, Miku made her American network television debut as she performed \"Sharing the World\" on the Late Show with David Letterman on CBS.[111] Hatsune Miku is featured in \"B Who I Want 2 B\" produced by Sophie from Namie Amuro\\'s album Genic. The 2016 Hatsune Miku Expo tour featured American electronic band Anamanaguchi as an opening act; to commemorate the tour, the band recorded a single track titled \"Miku\", which they performed live on the tour with Miku as an encore song.[112] Big Boi (of Outkast) sampled Aura Qualic\\'s song \"DATA 2.0\", featuring Hatsune Miku for his 2017 single \"Kill Jill\", also appearing in the song\\'s music video.[113] Slushii did a collaboration with Hatsune Miku for the song Though the Night[114][115] which was released on May 11, 2018 on the single Through the Night.', 'content_type': 'text', 'score': 0.6350853421929425, 'meta': {}, 'embedding': None, 'id': '3cb2a680487520b874bbf9f2d8b5b930'}>,\n",
       " <Document: {'content': 'let’s make that the bottom of the triangle, length 10km. The tide is going to push you north, so let’s make that the right hand side. And you want to know what direction you’ll end up going in, so that’s angle θ.', 'content_type': 'text', 'score': 0.6345868584719283, 'meta': {}, 'embedding': None, 'id': '769113840955c093c57c2c02cbfcbdbc'}>,\n",
       " <Document: {'content': 'In October 2011, Crypton showed on the official Hatsune Miku Facebook page a letter from the Japanese Minister of Economy for \"contributing to the furtherance of the informatization by minister of economy.\"[citation needed] The flag of the city of Chiba was considered to coincidentally resemble the silhouette of Hatsune Miku, and on the 10th anniversary on August 31, 2017, the municipal government website temporarily changed its logo to look like Miku.[71] Geoffrey Cain of GlobalPost has argued that the phenomenon of Hatsune Miku is partly due to the love of Japanese for giving inanimate objects a soul, which is rooted in Shintoism or animism, but also in the long tradition of Karakuri ningyō or automated wooden puppets. Thus, Japanese are much more ready to accept a virtual character as \"human\".[72]', 'content_type': 'text', 'score': 0.6321139360360339, 'meta': {}, 'embedding': None, 'id': '38ee61fd3e811523ef0f991d50b84d48'}>,\n",
       " <Document: {'content': \"Hatsune Miku (Japanese: 初音ミク), also called Miku Hatsune, and officially code-named CV01, is a Vocaloid software voicebank developed by Crypton Future Media and its official moe anthropomorphism, a 16-year-old girl with long, turquoise twintails. Miku's personification has been marketed as a virtual idol and has performed at live virtual concerts onstage as an animated projection (rear-cast projection on a specially coated glass screen).\", 'content_type': 'text', 'score': 0.62798065354118, 'meta': {}, 'embedding': None, 'id': '8068d68fd259f5c4a434686cd1f7ac6d'}>,\n",
       " <Document: {'content': 'You are out for a day’s sailing, and don’t really mind where you end up. You started out heading due east, and plan to sail for one hour at a cruising speed of 10 km/h. The tide is due north, and running at 5km/h. What direction will you end up travelling in?', 'content_type': 'text', 'score': 0.627077806531423, 'meta': {}, 'embedding': None, 'id': 'c1c15d2e8aeb8e1ef412f25200366e4e'}>]"
      ]
     },
     "execution_count": 11,
     "metadata": {},
     "output_type": "execute_result"
    }
   ],
   "source": [
    "responses"
   ]
  },
  {
   "cell_type": "code",
   "execution_count": 12,
   "id": "9b768ccc",
   "metadata": {},
   "outputs": [],
   "source": [
    "answers = []\n",
    "\n",
    "for response in responses:\n",
    "    QA_input = {\n",
    "        'question': query,\n",
    "        'context': response.to_dict()['content']\n",
    "    }\n",
    "    \n",
    "    answers.append(nlp(QA_input))\n",
    "    "
   ]
  },
  {
   "cell_type": "code",
   "execution_count": 13,
   "id": "bac47646",
   "metadata": {
    "scrolled": true
   },
   "outputs": [
    {
     "data": {
      "text/plain": [
       "[{'score': 0.21621721982955933,\n",
       "  'start': 118,\n",
       "  'end': 145,\n",
       "  'answer': 'Maker Hikōshiki Hatsune Mix'},\n",
       " {'score': 0.34318476915359497,\n",
       "  'start': 956,\n",
       "  'end': 979,\n",
       "  'answer': 'original concept design'},\n",
       " {'score': 0.2849087715148926,\n",
       "  'start': 162,\n",
       "  'end': 172,\n",
       "  'answer': 'an android'},\n",
       " {'score': 0.05226878076791763,\n",
       "  'start': 276,\n",
       "  'end': 285,\n",
       "  'answer': 'Snow Miku'},\n",
       " {'score': 0.1977575570344925,\n",
       "  'start': 131,\n",
       "  'end': 148,\n",
       "  'answer': 'Crypton Vocaloids'},\n",
       " {'score': 0.009457817301154137,\n",
       "  'start': 288,\n",
       "  'end': 305,\n",
       "  'answer': 'B Who I Want 2 B\"'},\n",
       " {'score': 0.0013418395537883043,\n",
       "  'start': 204,\n",
       "  'end': 211,\n",
       "  'answer': 'angle θ'},\n",
       " {'score': 0.07147035002708435,\n",
       "  'start': 578,\n",
       "  'end': 609,\n",
       "  'answer': 'giving inanimate objects a soul'},\n",
       " {'score': 0.505394458770752,\n",
       "  'start': 92,\n",
       "  'end': 121,\n",
       "  'answer': 'a Vocaloid software voicebank'},\n",
       " {'score': 0.06241319328546524, 'start': 97, 'end': 105, 'answer': 'due east'}]"
      ]
     },
     "execution_count": 13,
     "metadata": {},
     "output_type": "execute_result"
    }
   ],
   "source": [
    "answers"
   ]
  },
  {
   "cell_type": "code",
   "execution_count": 104,
   "id": "6b4af43b",
   "metadata": {},
   "outputs": [],
   "source": [
    "finalAnswer = max(answers, key=lambda x:x['score'])"
   ]
  },
  {
   "cell_type": "code",
   "execution_count": 105,
   "id": "b0c30c79",
   "metadata": {},
   "outputs": [
    {
     "data": {
      "text/plain": [
       "{'score': 0.525010883808136,\n",
       " 'start': 4,\n",
       " 'end': 41,\n",
       " 'answer': 'six important trigonometric functions'}"
      ]
     },
     "execution_count": 105,
     "metadata": {},
     "output_type": "execute_result"
    }
   ],
   "source": [
    "finalAnswer"
   ]
  },
  {
   "cell_type": "code",
   "execution_count": 117,
   "id": "272bba97",
   "metadata": {},
   "outputs": [
    {
     "ename": "KeyboardInterrupt",
     "evalue": "Interrupted by user",
     "output_type": "error",
     "traceback": [
      "\u001b[0;31m---------------------------------------------------------------------------\u001b[0m",
      "\u001b[0;31mKeyboardInterrupt\u001b[0m                         Traceback (most recent call last)",
      "Input \u001b[0;32mIn [117]\u001b[0m, in \u001b[0;36m<cell line: 2>\u001b[0;34m()\u001b[0m\n\u001b[1;32m      1\u001b[0m \u001b[38;5;28;01mwhile\u001b[39;00m \u001b[38;5;28;01mTrue\u001b[39;00m:\n\u001b[0;32m----> 2\u001b[0m     query \u001b[38;5;241m=\u001b[39m \u001b[38;5;28;43minput\u001b[39;49m\u001b[43m(\u001b[49m\u001b[43m)\u001b[49m\n\u001b[1;32m      3\u001b[0m     responses \u001b[38;5;241m=\u001b[39m retriever\u001b[38;5;241m.\u001b[39mretrieve(query)\n\u001b[1;32m      5\u001b[0m     answers \u001b[38;5;241m=\u001b[39m []\n",
      "File \u001b[0;32m~/anaconda3/lib/python3.9/site-packages/ipykernel/kernelbase.py:1075\u001b[0m, in \u001b[0;36mKernel.raw_input\u001b[0;34m(self, prompt)\u001b[0m\n\u001b[1;32m   1071\u001b[0m \u001b[38;5;28;01mif\u001b[39;00m \u001b[38;5;129;01mnot\u001b[39;00m \u001b[38;5;28mself\u001b[39m\u001b[38;5;241m.\u001b[39m_allow_stdin:\n\u001b[1;32m   1072\u001b[0m     \u001b[38;5;28;01mraise\u001b[39;00m StdinNotImplementedError(\n\u001b[1;32m   1073\u001b[0m         \u001b[38;5;124m\"\u001b[39m\u001b[38;5;124mraw_input was called, but this frontend does not support input requests.\u001b[39m\u001b[38;5;124m\"\u001b[39m\n\u001b[1;32m   1074\u001b[0m     )\n\u001b[0;32m-> 1075\u001b[0m \u001b[38;5;28;01mreturn\u001b[39;00m \u001b[38;5;28;43mself\u001b[39;49m\u001b[38;5;241;43m.\u001b[39;49m\u001b[43m_input_request\u001b[49m\u001b[43m(\u001b[49m\n\u001b[1;32m   1076\u001b[0m \u001b[43m    \u001b[49m\u001b[38;5;28;43mstr\u001b[39;49m\u001b[43m(\u001b[49m\u001b[43mprompt\u001b[49m\u001b[43m)\u001b[49m\u001b[43m,\u001b[49m\n\u001b[1;32m   1077\u001b[0m \u001b[43m    \u001b[49m\u001b[38;5;28;43mself\u001b[39;49m\u001b[38;5;241;43m.\u001b[39;49m\u001b[43m_parent_ident\u001b[49m\u001b[43m[\u001b[49m\u001b[38;5;124;43m\"\u001b[39;49m\u001b[38;5;124;43mshell\u001b[39;49m\u001b[38;5;124;43m\"\u001b[39;49m\u001b[43m]\u001b[49m\u001b[43m,\u001b[49m\n\u001b[1;32m   1078\u001b[0m \u001b[43m    \u001b[49m\u001b[38;5;28;43mself\u001b[39;49m\u001b[38;5;241;43m.\u001b[39;49m\u001b[43mget_parent\u001b[49m\u001b[43m(\u001b[49m\u001b[38;5;124;43m\"\u001b[39;49m\u001b[38;5;124;43mshell\u001b[39;49m\u001b[38;5;124;43m\"\u001b[39;49m\u001b[43m)\u001b[49m\u001b[43m,\u001b[49m\n\u001b[1;32m   1079\u001b[0m \u001b[43m    \u001b[49m\u001b[43mpassword\u001b[49m\u001b[38;5;241;43m=\u001b[39;49m\u001b[38;5;28;43;01mFalse\u001b[39;49;00m\u001b[43m,\u001b[49m\n\u001b[1;32m   1080\u001b[0m \u001b[43m\u001b[49m\u001b[43m)\u001b[49m\n",
      "File \u001b[0;32m~/anaconda3/lib/python3.9/site-packages/ipykernel/kernelbase.py:1120\u001b[0m, in \u001b[0;36mKernel._input_request\u001b[0;34m(self, prompt, ident, parent, password)\u001b[0m\n\u001b[1;32m   1117\u001b[0m             \u001b[38;5;28;01mbreak\u001b[39;00m\n\u001b[1;32m   1118\u001b[0m \u001b[38;5;28;01mexcept\u001b[39;00m \u001b[38;5;167;01mKeyboardInterrupt\u001b[39;00m:\n\u001b[1;32m   1119\u001b[0m     \u001b[38;5;66;03m# re-raise KeyboardInterrupt, to truncate traceback\u001b[39;00m\n\u001b[0;32m-> 1120\u001b[0m     \u001b[38;5;28;01mraise\u001b[39;00m \u001b[38;5;167;01mKeyboardInterrupt\u001b[39;00m(\u001b[38;5;124m\"\u001b[39m\u001b[38;5;124mInterrupted by user\u001b[39m\u001b[38;5;124m\"\u001b[39m) \u001b[38;5;28;01mfrom\u001b[39;00m \u001b[38;5;28mNone\u001b[39m\n\u001b[1;32m   1121\u001b[0m \u001b[38;5;28;01mexcept\u001b[39;00m \u001b[38;5;167;01mException\u001b[39;00m:\n\u001b[1;32m   1122\u001b[0m     \u001b[38;5;28mself\u001b[39m\u001b[38;5;241m.\u001b[39mlog\u001b[38;5;241m.\u001b[39mwarning(\u001b[38;5;124m\"\u001b[39m\u001b[38;5;124mInvalid Message:\u001b[39m\u001b[38;5;124m\"\u001b[39m, exc_info\u001b[38;5;241m=\u001b[39m\u001b[38;5;28;01mTrue\u001b[39;00m)\n",
      "\u001b[0;31mKeyboardInterrupt\u001b[0m: Interrupted by user"
     ]
    }
   ],
   "source": [
    "while True:\n",
    "    query = input()\n",
    "    responses = retriever.retrieve(query)\n",
    "    \n",
    "    answers = []\n",
    "\n",
    "    for response in responses:\n",
    "        QA_input = {\n",
    "            'question': query,\n",
    "            'context': response.to_dict()['content']\n",
    "        }\n",
    "\n",
    "        answers.append(nlp(QA_input))\n",
    "    \n",
    "    finalAnswer = max(answers, key=lambda x:x['score'])['answer']\n",
    "    \n",
    "    print(finalAnswer)\n",
    "    "
   ]
  },
  {
   "cell_type": "code",
   "execution_count": null,
   "id": "72c56b7e",
   "metadata": {},
   "outputs": [],
   "source": []
  },
  {
   "cell_type": "code",
   "execution_count": null,
   "id": "560b901b",
   "metadata": {},
   "outputs": [],
   "source": []
  }
 ],
 "metadata": {
  "kernelspec": {
   "display_name": "Python 3 (ipykernel)",
   "language": "python",
   "name": "python3"
  },
  "language_info": {
   "codemirror_mode": {
    "name": "ipython",
    "version": 3
   },
   "file_extension": ".py",
   "mimetype": "text/x-python",
   "name": "python",
   "nbconvert_exporter": "python",
   "pygments_lexer": "ipython3",
   "version": "3.9.7"
  }
 },
 "nbformat": 4,
 "nbformat_minor": 5
}
