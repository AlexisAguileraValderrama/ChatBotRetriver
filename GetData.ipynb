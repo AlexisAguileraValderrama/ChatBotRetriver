{
 "cells": [
  {
   "cell_type": "markdown",
   "id": "f8b2af57",
   "metadata": {},
   "source": [
    "Create retriever"
   ]
  },
  {
   "cell_type": "code",
   "execution_count": 219,
   "id": "2686621e",
   "metadata": {
    "scrolled": false
   },
   "outputs": [],
   "source": [
    "from haystack.document_stores.elasticsearch import ElasticsearchDocumentStore"
   ]
  },
  {
   "cell_type": "code",
   "execution_count": 220,
   "id": "c8e38d5e",
   "metadata": {
    "scrolled": true
   },
   "outputs": [],
   "source": [
    "document_store = ElasticsearchDocumentStore(host='localhost', username='', password='', index='squad_docs')"
   ]
  },
  {
   "cell_type": "markdown",
   "id": "541ca79a",
   "metadata": {},
   "source": [
    "Make the google query"
   ]
  },
  {
   "cell_type": "code",
   "execution_count": 230,
   "id": "a0c16a2c",
   "metadata": {
    "scrolled": true
   },
   "outputs": [
    {
     "name": "stdout",
     "output_type": "stream",
     "text": [
      "https://en.wikipedia.org/wiki/Trigonometry\n",
      "https://www.britannica.com/science/trigonometry\n",
      "https://www.mathsisfun.com/algebra/trigonometry.html\n",
      "https://www.youtube.com/watch?v=PUB0TaZ7bhA\n",
      "https://www.cuemath.com/trigonometry/\n",
      "https://byjus.com/maths/trigonometry/\n",
      "https://www.skillsyouneed.com/num/trigonometry.html\n",
      "https://www2.clarku.edu/faculty/djoyce/trig/\n",
      "https://mathworld.wolfram.com/Trigonometry.html\n",
      "https://www.geogebra.org/t/trigonometry?lang=en\n",
      "https://www.govst.edu/uploadedFiles/Academics/Colleges_and_Programs/CAS/Trigonometry_Short_Course_Tutorial_Lauren_Johnson.pdf\n",
      "https://www.livescience.com/51026-what-is-trigonometry.html\n",
      "https://www.wolframalpha.com/examples/mathematics/trigonometry\n",
      "https://www.sfu.ca/math-coursenotes/Math%20157%20Course%20Notes/sec_Trigonometry.html\n",
      "https://www.omnicalculator.com/math/trigonometry\n"
     ]
    }
   ],
   "source": [
    "from googlesearch import search\n",
    "\n",
    "max_number = 10\n",
    "valid_url = []\n",
    "\n",
    "# to search\n",
    "query = \"Trigonometry\"\n",
    "\n",
    "for j in search(query, num=20, start = 1, stop=15, lang = 'en'):\n",
    "    print(j)\n",
    "    valid_url.append(j)"
   ]
  },
  {
   "cell_type": "code",
   "execution_count": 231,
   "id": "013c00f5",
   "metadata": {
    "scrolled": true
   },
   "outputs": [
    {
     "data": {
      "text/plain": [
       "['https://en.wikipedia.org/wiki/Trigonometry',\n",
       " 'https://www.britannica.com/science/trigonometry',\n",
       " 'https://www.mathsisfun.com/algebra/trigonometry.html',\n",
       " 'https://www.youtube.com/watch?v=PUB0TaZ7bhA',\n",
       " 'https://www.cuemath.com/trigonometry/',\n",
       " 'https://byjus.com/maths/trigonometry/',\n",
       " 'https://www.skillsyouneed.com/num/trigonometry.html',\n",
       " 'https://www2.clarku.edu/faculty/djoyce/trig/',\n",
       " 'https://mathworld.wolfram.com/Trigonometry.html',\n",
       " 'https://www.geogebra.org/t/trigonometry?lang=en',\n",
       " 'https://www.govst.edu/uploadedFiles/Academics/Colleges_and_Programs/CAS/Trigonometry_Short_Course_Tutorial_Lauren_Johnson.pdf',\n",
       " 'https://www.livescience.com/51026-what-is-trigonometry.html',\n",
       " 'https://www.wolframalpha.com/examples/mathematics/trigonometry',\n",
       " 'https://www.sfu.ca/math-coursenotes/Math%20157%20Course%20Notes/sec_Trigonometry.html',\n",
       " 'https://www.omnicalculator.com/math/trigonometry']"
      ]
     },
     "execution_count": 231,
     "metadata": {},
     "output_type": "execute_result"
    }
   ],
   "source": [
    "valid_url"
   ]
  },
  {
   "cell_type": "code",
   "execution_count": 232,
   "id": "878796f3",
   "metadata": {},
   "outputs": [
    {
     "name": "stderr",
     "output_type": "stream",
     "text": [
      "WARNING - bs4.dammit -  Some characters could not be decoded, and were replaced with REPLACEMENT CHARACTER.\n"
     ]
    }
   ],
   "source": [
    "import urllib\n",
    "from bs4 import BeautifulSoup\n",
    "from langdetect import detect\n",
    "import requests\n",
    "\n",
    "import re\n",
    "\n",
    "min_words = 400\n",
    "\n",
    "pages = []\n",
    "\n",
    "for url in valid_url:\n",
    "    \n",
    "    innerHtml = requests.get(url).content\n",
    "    \n",
    "    ##Use BeautifulSoup to convert the html file to plain text\n",
    "    soup = BeautifulSoup(innerHtml, \"html.parser\")\n",
    "    html_text = soup.get_text()\n",
    "    html_text = re.sub('(?<=\\n)\\s+\\n', '\\n', html_text)\n",
    "    html_text = re.sub('\\s{2,}', '\\n', html_text)\n",
    "    html_text = re.sub('\\[.]', '', html_text)\n",
    "\n",
    "    \n",
    "    #Detect if the text is in english\n",
    "    language = detect(html_text)\n",
    "    \n",
    "    if len(html_text.split(\" \")) > min_words and language == 'en':\n",
    "          ##Add the plain text to the rawdata list\n",
    "          pages.append(html_text)\n",
    "\n"
   ]
  },
  {
   "cell_type": "code",
   "execution_count": 233,
   "id": "b469abf2",
   "metadata": {
    "scrolled": false
   },
   "outputs": [
    {
     "data": {
      "text/plain": [
       "'\\nTrigonometry\\nIntroduction to Trigonometry\\nTrigonometry (from Greek trigonon \"triangle\" + metron \"measure\")\\nWant to learn Trigonometry? Here is a quick summary.\\nFollow the links for more, or go to Trigonometry Index\\nTrigonometry ... is all about triangles.\\nTrigonometry helps us find angles and distances, and is used a lot in science, engineering, video games, and more!\\nRight-Angled Triangle\\nThe triangle of most interest is the right-angled triangle. The right angle is shown by the little box in the corner:\\nAnother angle is often labeled θ, and the three sides are then called:\\nAdjacent: adjacent (next to) the angle θ\\nOpposite: opposite the angle θ\\nand the longest side is the Hypotenuse\\nWhy a Right-Angled Triangle?\\nWhy is this triangle so important?\\nImagine we can measure along and up but want to know the direct distance and angle:\\nTrigonometry can find that missing angle and distance.\\nOr maybe we have a distance and angle and need to \"plot the dot\" along and up:\\nQuestions like these are common in engineering, computer animation and more.\\nAnd trigonometry gives the answers!\\nSine, Cosine and Tangent\\nThe main functions in trigonometry are\\nSine, Cosine and Tangent\\nThey are simply one side of a right-angled triangle divided by another.\\nFor any angle \"θ\":\\n(Sine, Cosine and Tangent are often abbreviated to sin, cos and tan.)\\nExample: What is the sine of 35°?\\nUsing this triangle (lengths are only to one decimal place):\\nsin(35°) = OppositeHypotenuse = 2.84.9 = 0.57...\\nThe triangle could be larger, smaller or turned around, but that angle\\nwill always have that ratio.\\nCalculators have sin, cos and tan to help us, so let\\'s see how to use them:\\nExample: How Tall is The Tree?\\nWe can\\'t reach the top of the tree, so\\nwe\\nwalk away and measure an angle (using a protractor) and distance (using a laser):\\nWe know the Hypotenuse\\nAnd we want to know the Opposite\\nSine is the ratio of Opposite / Hypotenuse:\\nsin(45°) =\\nOpposite\\nHypotenuse\\nGet a calculator, type in \"45\", then the \"sin\" key:\\nsin(45°) = 0.7071...\\nWhat does the 0.7071... mean? It is the ratio of the side lengths, so\\nthe Opposite is about 0.7071 times as long as the Hypotenuse.\\nWe can now put 0.7071... in place of sin(45°):\\n0.7071... =\\nOpposite Hypotenuse\\nAnd we also know the hypotenuse is 20:\\n0.7071... =\\nOpposite 20\\nTo solve, first multiply both sides by 20:\\n20 × 0.7071... = Opposite\\nFinally:\\nOpposite = 14.14m (to 2 decimals)\\nWhen you gain more experience you can do it quickly like this:\\nExample: How Tall is The Tree?\\nStart with:sin(45°) =\\nOpposite\\nHypotenuse\\nWe know:0.7071... =\\nOpposite\\n20\\nSwap sides:\\nOpposite\\n20\\n= 0.7071...\\nMultiply both sides by 20: Opposite = 0.7071... × 20\\nCalculate:Opposite = 14.14\\n(to 2 decimals)\\nThe tree is 14.14m tall\\nTry Sin Cos and Tan\\nPlay with this for a while (move the mouse around) and get familiar with values of sine, cosine and tangent for different angles, such as 0°, 30°, 45°, 60° and 90°.\\n../algebra/images/circle-triangle.js\\nAlso try 120°, 135°, 180°, 240°, 270° etc, and notice that positions can be positive or negative by the rules of Cartesian coordinates, so the sine, cosine and tangent change between positive and negative also.\\nSo trigonometry is also about circles!\\nUnit Circle\\nWhat you just played with is the Unit Circle.\\nIt is a circle with a radius of 1 with its center at 0.\\nBecause the radius is 1, we can directly measure sine, cosine and tangent.\\nHere we see the sine function being made by the unit circle:\\nimages/circle-sine.js\\nNote: you can\\nsee the nice graphs made by sine, cosine and tangent.\\nDegrees and Radians\\nAngles can be in Degrees or Radians. Here are some examples:\\nAngle\\nDegrees\\nRadians\\nRight Angle\\n90°\\nπ/2\\n__ Straight Angle\\n180°\\nπ\\nFull Rotation\\n360°\\n2π\\nRepeating Pattern\\nBecause the angle is rotating around and around the circle the Sine, Cosine and Tangent functions repeat once every full rotation (see Amplitude, Period, Phase Shift\\nand Frequency).\\nWhen we want to calculate the function for an angle larger than a full rotation of 360° (2π radians) we subtract as many full rotations as needed to bring it back below 360° (2π radians):\\nExample: what is the cosine of 370°?\\n370° is greater than 360° so let us subtract 360°\\n370° − 360° = 10°\\ncos(370°) = cos(10°) = 0.985 (to 3 decimal places)\\nAnd when the angle is less than zero, just add full rotations.\\nExample: what is the sine of −3 radians?\\n−3 is less than 0 so let us add 2π radians\\n−3 + 2π = −3 + 6.283... = 3.283... radians\\nsin(−3) = sin(3.283...) = −0.141 (to 3 decimal places)\\nSolving Triangles\\nTrigonometry is also useful for general triangles, not just right-angled ones .\\nIt helps us in Solving Triangles. \"Solving\" means finding missing sides and angles.\\nExample: Find the Missing Angle \"C\"\\nAngle C can be found using angles of a triangle add to 180°:\\nSo C = 180° − 76° − 34° = 70°\\nWe can also find missing side lengths. The general rule is:\\nWhen we know any 3 of the sides or angles we can find the other 3\\n(except for the three angles case)\\nSee Solving Triangles for more details.\\nOther Functions (Cotangent, Secant, Cosecant)\\nSimilar to Sine, Cosine and Tangent, there are three other trigonometric functions which are made by dividing one side by another:\\nCosecant Function:\\ncsc(θ) =\\nHypotenuse\\xa0/\\xa0Opposite\\nSecant Function:\\nsec(θ) =\\nHypotenuse\\xa0/\\xa0Adjacent\\nCotangent Function:\\ncot(θ) =\\nAdjacent\\xa0/\\xa0Opposite\\nTrigonometric and Triangle Identities\\nAnd as you get better at Trigonometry you can learn these:\\nThe Trigonometric Identities are equations that are true for all right-angled triangles.\\nThe Triangle Identities are equations that are true for all triangles (they don\\'t have to have a right angle).\\nEnjoy becoming a triangle (and circle) expert!\\nTrigonometry Index\\nSine, Cosine and Tangent\\nUnit Circle\\nAlgebra Index\\nCopyright © 2022 Rod Pierce\\n'"
      ]
     },
     "execution_count": 233,
     "metadata": {},
     "output_type": "execute_result"
    }
   ],
   "source": [
    "pages[2]"
   ]
  },
  {
   "cell_type": "markdown",
   "id": "1cfb0021",
   "metadata": {},
   "source": [
    "Paragraph selector"
   ]
  },
  {
   "cell_type": "code",
   "execution_count": 234,
   "id": "20cfba83",
   "metadata": {},
   "outputs": [],
   "source": [
    "min_words_per_paragraph = 40\n",
    "\n",
    "contexts = []\n",
    "\n",
    "for page in pages:\n",
    "    \n",
    "    paragraphs = page.split(\"\\n\")\n",
    "    \n",
    "    for paragraph in paragraphs:\n",
    "        \n",
    "        size = len(paragraph.split(\" \"))\n",
    "    \n",
    "        if size >= min_words_per_paragraph:\n",
    "            contexts.append(paragraph)\n",
    "    \n"
   ]
  },
  {
   "cell_type": "code",
   "execution_count": 235,
   "id": "ef3c4115",
   "metadata": {},
   "outputs": [
    {
     "data": {
      "text/plain": [
       "96"
      ]
     },
     "execution_count": 235,
     "metadata": {},
     "output_type": "execute_result"
    }
   ],
   "source": [
    "len(contexts)"
   ]
  },
  {
   "cell_type": "code",
   "execution_count": 236,
   "id": "291ee4b0",
   "metadata": {},
   "outputs": [
    {
     "data": {
      "text/plain": [
       "'In Diagram ii, we have rotated the radius further in an anti-clockwise direction, past the vertical (y axis) into the next quadrant. Here θ is an obtuse angle, between 90° and 180°. The reference angle alpha α is equal to 180° − θ, and is the acute angle within the right-angled triangle.'"
      ]
     },
     "execution_count": 236,
     "metadata": {},
     "output_type": "execute_result"
    }
   ],
   "source": [
    "contexts[50]"
   ]
  },
  {
   "cell_type": "code",
   "execution_count": 237,
   "id": "191ebabe",
   "metadata": {},
   "outputs": [],
   "source": [
    "squad_docs = []\n",
    "\n",
    "for context in contexts:\n",
    "    squad_docs.append({\n",
    "        'content': context\n",
    "    })"
   ]
  },
  {
   "cell_type": "markdown",
   "id": "5382a8b6",
   "metadata": {},
   "source": [
    "Put data in"
   ]
  },
  {
   "cell_type": "code",
   "execution_count": 238,
   "id": "52afc6ae",
   "metadata": {},
   "outputs": [],
   "source": [
    "document_store.write_documents(squad_docs)"
   ]
  },
  {
   "cell_type": "markdown",
   "id": "0f5de1d2",
   "metadata": {},
   "source": [
    "Retrive"
   ]
  },
  {
   "cell_type": "code",
   "execution_count": 239,
   "id": "52bcd62f",
   "metadata": {},
   "outputs": [],
   "source": [
    "from haystack.retriever.sparse import BM25Retriever\n",
    "\n",
    "retriever = BM25Retriever(document_store)"
   ]
  },
  {
   "cell_type": "code",
   "execution_count": 188,
   "id": "f17d039f",
   "metadata": {
    "scrolled": false
   },
   "outputs": [
    {
     "data": {
      "text/plain": [
       "[<Document: {'content': 'The National Autonomous University of Mexico was officially established in 1910,[279] and the university became one of the most important institutes of higher learning in Mexico.[280] UNAM provides world class education in science, medicine, and engineering.[281] Many scientific institutes and new institutes of higher learning, such as National Polytechnic Institute (founded in 1936),[282] were established during the first half of the 20th century. Most of the new research institutes were created within UNAM. Twelve institutes were integrated into UNAM from 1929 to 1973.[283] In 1959, the Mexican Academy of Sciences was created to coordinate scientific efforts between academics.', 'content_type': 'text', 'score': 0.8534248064768555, 'meta': {}, 'embedding': None, 'id': '8067da99344acc9ddd67863d032e0d24'}>,\n",
       " <Document: {'content': 'In 1995, the Mexican chemist Mario J. Molina shared the Nobel Prize in Chemistry with Paul J. Crutzen and F. Sherwood Rowland for their work in atmospheric chemistry, particularly concerning the formation and decomposition of ozone.[284] Molina, an alumnus of UNAM, became the first Mexican citizen to win the Nobel Prize in science.[285]', 'content_type': 'text', 'score': 0.6870661232434895, 'meta': {}, 'embedding': None, 'id': 'fb7ae9fabba267843b765cf97692225a'}>,\n",
       " <Document: {'content': 'The 1521 capture of Tenochtitlan and immediate founding of the Spanish capital Mexico City on its ruins was the beginning of a 300-year-long colonial era during which Mexico was known as Nueva España (New Spain). Two factors made Mexico a jewel in the Spanish Empire: the existence of large, hierarchically-organized Mesoamerican populations that rendered tribute and performed obligatory labor and the discovery of vast silver deposits in northern Mexico.[68] The Kingdom of New Spain was created from the remnants of the Aztec empire. The two pillars of Spanish rule were the State and the Roman Catholic Church, both under the authority of the Spanish crown. In 1493 the pope had granted sweeping powers to the Spanish monarchy for its overseas empire, with the proviso that the crown spread Christianity in its new realms. In 1524, King Charles I created the Council of the Indies based in Spain to oversee State power its overseas territories; in New Spain the crown established a high court in Mexico City, the Real Audiencia, and then in 1535 created the Viceroyalty of New Spain. The viceroy was highest official of the State. In the religious sphere, the diocese of Mexico was created in 1530 and elevated to the Archdiocese of Mexico in 1546, with the archbishop as the head of the ecclesiastical hierarchy, overseeing Roman Catholic clergy. Castilian Spanish was the language of rulers. The Catholic faith the only one permitted, with non-Catholics (Jews and Protestants) and Catholics (excluding Indians) holding unorthodox views being subject to the Mexican Inquisition, established in 1571.[69]', 'content_type': 'text', 'score': 0.6842164031361734, 'meta': {}, 'embedding': None, 'id': '38a6f4e4307192d25f69f6fb0d58b8e'}>,\n",
       " <Document: {'content': 'To be sure, the origins of authoritarian development in nineteenth century Mexico were not with Porfirio Díaz, as is often asserted. Their beginnings actually went back several decades earlier, to the last presidency of Santa Anna, generally known as the Dictatorship (1853-54). But Santa Anna was overthrown too quickly, and now for the last time, for much to have actually occurred. A ministry for development (Fomento) had been created, but the Liberal revolution of Ayutla swept Santa Anna and his clique away for good. Serious reform seems to have begun around 1870, when the Finance Minister was Matías Romero. Romero was intent on providing Mexico with a modern Treasury, and on ending the hand-to- mouth financing that had mostly characterized the country’s government since Independence, or at least since the mid-1830s. So it is appropriate to pick up with the story here. Where did Mexico stand in 1870?[33]', 'content_type': 'text', 'score': 0.6837343818938588, 'meta': {}, 'embedding': None, 'id': '93daf8743778ab01c753556c88cf02cd'}>,\n",
       " <Document: {'content': 'The Mexican Revolution (1910-1940) began as a political upheaval provoked by a crisis in the presidential succession when Porfirio Díaz refused to leave office in the wake of electoral defeat after signaling his willingness to do so in a famous pubic interview of 1908.[43] It was also the result of an agrarian uprising and the insistent demand of Mexico’s growing industrial proletariat for a share of political power. Finally, there was a small (fewer than 10 percent of all households) but upwardly mobile urban middle class created by economic development under Díaz whose access to political power had been effectively blocked by the regime’s mechanics of political control. Precisely how “revolutionary” were the results of the armed revolt—which persisted largely through the 1910s and peaked in a civil war in 1914-1915—has long been contentious, but is only tangentially relevant as a matter of economic history. The Mexican Revolution was no Bolshevik movement (of course, it predated Bolshevism by seven years) but it was not a purely bourgeois constitutional movement either, although it did contain substantial elements of both.', 'content_type': 'text', 'score': 0.6797467416657766, 'meta': {}, 'embedding': None, 'id': '7751ee21f8b7cca1e4dc78eb2e924fc2'}>,\n",
       " <Document: {'content': '[20] Richard J. Salvucci, “Economic Growth and Change in Bourbon Mexico: A Review Essay,” The Americas, 51:2 (1994), pp. 219-231; William B Taylor, Magistrates of the Sacred: Priests and Parishioners in Eighteenth Century Mexico (Palo Alto: Stanford University Press, 1996), p. 24; Luis Jáuregui, La Real Hacienda de Nueva España. Su Administración en la Época de los Intendentes, 1786-1821 (México, DF: UNAM, 1999), p. 157.', 'content_type': 'text', 'score': 0.677764794777732, 'meta': {}, 'embedding': None, 'id': '33b69f57a528a90da5d194ab9add6c60'}>,\n",
       " <Document: {'content': \"In the first half-century of Spanish rule, a network of Spanish cities was created, sometimes on pre-Columbian sites where there were dense indigenous populations. The capital Mexico City was and remains the premier city, but other cities founded in the sixteenth century remain important, including Puebla, Guadalajara, Guanajuato, Zacatecas, Oaxaca, and the port of Veracruz. Cities and towns were hubs of civil officials, ecclesiastics, business, Spanish elites, and mixed-race and indigenous artisans and workers. When deposits of silver were discovered in sparsely populated northern Mexico, far from the dense populations of central Mexico, the Spanish secured the region against fiercely resistant indigenous Chichimecas. The Viceroyalty at its greatest extent included the territories of modern Mexico, Central America as far south as Costa Rica, and the western United States. The Viceregal capital Mexico City also administrated the Spanish West Indies (the Caribbean), the Spanish East Indies (that is, the Philippines), and Spanish Florida. In 1819, the Spain signed the Adams-Onís Treaty with the United States, setting New Spain's northern boundary.[70]\", 'content_type': 'text', 'score': 0.6723107701670438, 'meta': {}, 'embedding': None, 'id': '91a25969dff8afd1613af7df25bd1f15'}>,\n",
       " <Document: {'content': 'Mexico has been photographed since the nineteenth century, when the technology was first developed. During the Porfiriato, Díaz realized the importance of photography in shaping the understanding of his regime and its accomplishments. The government hired Guillermo Kahlo (father of painter Frida Kahlo) to create photographic images of Mexico\\'s new industrial structures as well as its pre-Columbian and colonial past. Photographer Hugo Brehme specialized in images of \"picturesque\" Mexico, with images of Mexican places and often rural people. During the Mexican Revolution, photographers chronicled the conflict, usually in the aftermath of a battle, since large and heavy equipment did not permit action shots. Agustín Victor Casasola is the most famous of photographer of the revolutionary era, and he collected other photographers\\' images in the Casasola Archive; his vast collection was purchased by the Mexican government and is now part of the government photographic repository, the Fototeca.[412][413] After the revolution, Mexican photographers created photographs as art images.[414] Among others, notable Mexican photographers include Manuel Álvarez Bravo, Héctor García Cobo, and Graciela Iturbide.', 'content_type': 'text', 'score': 0.6723107701670438, 'meta': {}, 'embedding': None, 'id': '76f543fb0f74b76fb871895be646216f'}>,\n",
       " <Document: {'content': '[50]Again, there are dozens of studies of the Mexican economy in this period. Ros’ figures come from “Mexico’s Trade and Industrialization Experience Since 1960: A Reconsideration of Past Policies and Assessment of Current Reforms,” Kellogg Institute (Working Paper 186, January 1993). For a more general study, see Juan Carlos Moreno-Brid and Jaime Ros, Development and Growth in the Me3xican Economy. A Historical Perspective (New York: Oxford University Press, 2009). A recent Spanish language treatment is Enrique Cárdenas Sánchez, El largo curso de la economía mexicana. De 1780 a nuestros días (México, DF: Fondo de Cultura Económica, 2015). A view from a different perspective is Carlos Tello, Estado y desarrollo económico. México 1920-2006 (México, DF, UNAM, 2007).', 'content_type': 'text', 'score': 0.6535454725212366, 'meta': {}, 'embedding': None, 'id': '876b67a45c4e68de66774f8d45063b16'}>,\n",
       " <Document: {'content': \"Following the fraudulent 1988 Presidential election in hands of the government's Department of Interior (Gobernación), an independent institute to oversee the electoral agency was created, the Federal Institute of Elections, now the National Electoral Institute. In 2022, the López Obrador administration which has feuded with the agency, proposed sweeping changes to the structure, advocating its membership be chosen by voters. The proposal is controversial and opposed by academics, who argue the positions should be held by experts.[167]\", 'content_type': 'text', 'score': 0.6506283481954087, 'meta': {}, 'embedding': None, 'id': '7d853e4c1252bfe5100580b99a0cc44d'}>]"
      ]
     },
     "execution_count": 188,
     "metadata": {},
     "output_type": "execute_result"
    }
   ],
   "source": [
    "retriever.retrieve(\"When was UNAM created?\")"
   ]
  },
  {
   "cell_type": "code",
   "execution_count": 211,
   "id": "e55a2ab7",
   "metadata": {},
   "outputs": [
    {
     "data": {
      "text/plain": [
       "{'took': 1,\n",
       " 'timed_out': False,\n",
       " 'total': 0,\n",
       " 'deleted': 0,\n",
       " 'batches': 0,\n",
       " 'version_conflicts': 0,\n",
       " 'noops': 0,\n",
       " 'retries': {'bulk': 0, 'search': 0},\n",
       " 'throttled_millis': 0,\n",
       " 'requests_per_second': -1.0,\n",
       " 'throttled_until_millis': 0,\n",
       " 'failures': []}"
      ]
     },
     "execution_count": 211,
     "metadata": {},
     "output_type": "execute_result"
    }
   ],
   "source": [
    "\n",
    "\n",
    "res = requests.post('http://localhost:9200/squad_docs/_delete_by_query',\n",
    "                    json={\n",
    "                        'query': {\n",
    "                            'match_all': {}\n",
    "                        }\n",
    "                    })\n",
    "\n",
    "res.json()"
   ]
  },
  {
   "cell_type": "code",
   "execution_count": null,
   "id": "2bcd7f90",
   "metadata": {},
   "outputs": [],
   "source": []
  }
 ],
 "metadata": {
  "kernelspec": {
   "display_name": "Python 3 (ipykernel)",
   "language": "python",
   "name": "python3"
  },
  "language_info": {
   "codemirror_mode": {
    "name": "ipython",
    "version": 3
   },
   "file_extension": ".py",
   "mimetype": "text/x-python",
   "name": "python",
   "nbconvert_exporter": "python",
   "pygments_lexer": "ipython3",
   "version": "3.9.12"
  }
 },
 "nbformat": 4,
 "nbformat_minor": 5
}
