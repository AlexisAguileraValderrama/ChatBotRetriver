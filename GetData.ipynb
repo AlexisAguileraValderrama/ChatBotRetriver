{
 "cells": [
  {
   "cell_type": "markdown",
   "id": "f8b2af57",
   "metadata": {},
   "source": [
    "Create retriever"
   ]
  },
  {
   "cell_type": "code",
   "execution_count": 1,
   "id": "2686621e",
   "metadata": {
    "scrolled": true
   },
   "outputs": [],
   "source": [
    "from haystack.document_stores.elasticsearch import ElasticsearchDocumentStore"
   ]
  },
  {
   "cell_type": "code",
   "execution_count": 2,
   "id": "c8e38d5e",
   "metadata": {
    "scrolled": true
   },
   "outputs": [
    {
     "name": "stderr",
     "output_type": "stream",
     "text": [
      "WARNING - elasticsearch -  HEAD http://localhost:9200/ [status:N/A request:0.004s]\n",
      "Traceback (most recent call last):\n",
      "  File \"/home/serapf/anaconda3/lib/python3.9/site-packages/urllib3/connection.py\", line 174, in _new_conn\n",
      "    conn = connection.create_connection(\n",
      "  File \"/home/serapf/anaconda3/lib/python3.9/site-packages/urllib3/util/connection.py\", line 95, in create_connection\n",
      "    raise err\n",
      "  File \"/home/serapf/anaconda3/lib/python3.9/site-packages/urllib3/util/connection.py\", line 85, in create_connection\n",
      "    sock.connect(sa)\n",
      "ConnectionRefusedError: [Errno 111] Connection refused\n",
      "\n",
      "During handling of the above exception, another exception occurred:\n",
      "\n",
      "Traceback (most recent call last):\n",
      "  File \"/home/serapf/anaconda3/lib/python3.9/site-packages/elasticsearch/connection/http_urllib3.py\", line 245, in perform_request\n",
      "    response = self.pool.urlopen(\n",
      "  File \"/home/serapf/anaconda3/lib/python3.9/site-packages/urllib3/connectionpool.py\", line 785, in urlopen\n",
      "    retries = retries.increment(\n",
      "  File \"/home/serapf/anaconda3/lib/python3.9/site-packages/urllib3/util/retry.py\", line 525, in increment\n",
      "    raise six.reraise(type(error), error, _stacktrace)\n",
      "  File \"/home/serapf/anaconda3/lib/python3.9/site-packages/urllib3/packages/six.py\", line 770, in reraise\n",
      "    raise value\n",
      "  File \"/home/serapf/anaconda3/lib/python3.9/site-packages/urllib3/connectionpool.py\", line 703, in urlopen\n",
      "    httplib_response = self._make_request(\n",
      "  File \"/home/serapf/anaconda3/lib/python3.9/site-packages/urllib3/connectionpool.py\", line 398, in _make_request\n",
      "    conn.request(method, url, **httplib_request_kw)\n",
      "  File \"/home/serapf/anaconda3/lib/python3.9/site-packages/urllib3/connection.py\", line 239, in request\n",
      "    super(HTTPConnection, self).request(method, url, body=body, headers=headers)\n",
      "  File \"/home/serapf/anaconda3/lib/python3.9/http/client.py\", line 1285, in request\n",
      "    self._send_request(method, url, body, headers, encode_chunked)\n",
      "  File \"/home/serapf/anaconda3/lib/python3.9/http/client.py\", line 1331, in _send_request\n",
      "    self.endheaders(body, encode_chunked=encode_chunked)\n",
      "  File \"/home/serapf/anaconda3/lib/python3.9/http/client.py\", line 1280, in endheaders\n",
      "    self._send_output(message_body, encode_chunked=encode_chunked)\n",
      "  File \"/home/serapf/anaconda3/lib/python3.9/http/client.py\", line 1040, in _send_output\n",
      "    self.send(msg)\n",
      "  File \"/home/serapf/anaconda3/lib/python3.9/http/client.py\", line 980, in send\n",
      "    self.connect()\n",
      "  File \"/home/serapf/anaconda3/lib/python3.9/site-packages/urllib3/connection.py\", line 205, in connect\n",
      "    conn = self._new_conn()\n",
      "  File \"/home/serapf/anaconda3/lib/python3.9/site-packages/urllib3/connection.py\", line 186, in _new_conn\n",
      "    raise NewConnectionError(\n",
      "urllib3.exceptions.NewConnectionError: <urllib3.connection.HTTPConnection object at 0x7f3db2638610>: Failed to establish a new connection: [Errno 111] Connection refused\n",
      "WARNING - elasticsearch -  HEAD http://localhost:9200/ [status:N/A request:0.002s]\n",
      "Traceback (most recent call last):\n",
      "  File \"/home/serapf/anaconda3/lib/python3.9/site-packages/urllib3/connection.py\", line 174, in _new_conn\n",
      "    conn = connection.create_connection(\n",
      "  File \"/home/serapf/anaconda3/lib/python3.9/site-packages/urllib3/util/connection.py\", line 95, in create_connection\n",
      "    raise err\n",
      "  File \"/home/serapf/anaconda3/lib/python3.9/site-packages/urllib3/util/connection.py\", line 85, in create_connection\n",
      "    sock.connect(sa)\n",
      "ConnectionRefusedError: [Errno 111] Connection refused\n",
      "\n",
      "During handling of the above exception, another exception occurred:\n",
      "\n",
      "Traceback (most recent call last):\n",
      "  File \"/home/serapf/anaconda3/lib/python3.9/site-packages/elasticsearch/connection/http_urllib3.py\", line 245, in perform_request\n",
      "    response = self.pool.urlopen(\n",
      "  File \"/home/serapf/anaconda3/lib/python3.9/site-packages/urllib3/connectionpool.py\", line 785, in urlopen\n",
      "    retries = retries.increment(\n",
      "  File \"/home/serapf/anaconda3/lib/python3.9/site-packages/urllib3/util/retry.py\", line 525, in increment\n",
      "    raise six.reraise(type(error), error, _stacktrace)\n",
      "  File \"/home/serapf/anaconda3/lib/python3.9/site-packages/urllib3/packages/six.py\", line 770, in reraise\n",
      "    raise value\n",
      "  File \"/home/serapf/anaconda3/lib/python3.9/site-packages/urllib3/connectionpool.py\", line 703, in urlopen\n",
      "    httplib_response = self._make_request(\n",
      "  File \"/home/serapf/anaconda3/lib/python3.9/site-packages/urllib3/connectionpool.py\", line 398, in _make_request\n",
      "    conn.request(method, url, **httplib_request_kw)\n",
      "  File \"/home/serapf/anaconda3/lib/python3.9/site-packages/urllib3/connection.py\", line 239, in request\n",
      "    super(HTTPConnection, self).request(method, url, body=body, headers=headers)\n",
      "  File \"/home/serapf/anaconda3/lib/python3.9/http/client.py\", line 1285, in request\n",
      "    self._send_request(method, url, body, headers, encode_chunked)\n",
      "  File \"/home/serapf/anaconda3/lib/python3.9/http/client.py\", line 1331, in _send_request\n",
      "    self.endheaders(body, encode_chunked=encode_chunked)\n",
      "  File \"/home/serapf/anaconda3/lib/python3.9/http/client.py\", line 1280, in endheaders\n",
      "    self._send_output(message_body, encode_chunked=encode_chunked)\n",
      "  File \"/home/serapf/anaconda3/lib/python3.9/http/client.py\", line 1040, in _send_output\n",
      "    self.send(msg)\n",
      "  File \"/home/serapf/anaconda3/lib/python3.9/http/client.py\", line 980, in send\n",
      "    self.connect()\n",
      "  File \"/home/serapf/anaconda3/lib/python3.9/site-packages/urllib3/connection.py\", line 205, in connect\n",
      "    conn = self._new_conn()\n",
      "  File \"/home/serapf/anaconda3/lib/python3.9/site-packages/urllib3/connection.py\", line 186, in _new_conn\n",
      "    raise NewConnectionError(\n",
      "urllib3.exceptions.NewConnectionError: <urllib3.connection.HTTPConnection object at 0x7f3e50694910>: Failed to establish a new connection: [Errno 111] Connection refused\n",
      "WARNING - elasticsearch -  HEAD http://localhost:9200/ [status:N/A request:0.001s]\n",
      "Traceback (most recent call last):\n",
      "  File \"/home/serapf/anaconda3/lib/python3.9/site-packages/urllib3/connection.py\", line 174, in _new_conn\n",
      "    conn = connection.create_connection(\n",
      "  File \"/home/serapf/anaconda3/lib/python3.9/site-packages/urllib3/util/connection.py\", line 95, in create_connection\n",
      "    raise err\n",
      "  File \"/home/serapf/anaconda3/lib/python3.9/site-packages/urllib3/util/connection.py\", line 85, in create_connection\n",
      "    sock.connect(sa)\n",
      "ConnectionRefusedError: [Errno 111] Connection refused\n",
      "\n",
      "During handling of the above exception, another exception occurred:\n",
      "\n",
      "Traceback (most recent call last):\n",
      "  File \"/home/serapf/anaconda3/lib/python3.9/site-packages/elasticsearch/connection/http_urllib3.py\", line 245, in perform_request\n",
      "    response = self.pool.urlopen(\n",
      "  File \"/home/serapf/anaconda3/lib/python3.9/site-packages/urllib3/connectionpool.py\", line 785, in urlopen\n",
      "    retries = retries.increment(\n",
      "  File \"/home/serapf/anaconda3/lib/python3.9/site-packages/urllib3/util/retry.py\", line 525, in increment\n",
      "    raise six.reraise(type(error), error, _stacktrace)\n",
      "  File \"/home/serapf/anaconda3/lib/python3.9/site-packages/urllib3/packages/six.py\", line 770, in reraise\n",
      "    raise value\n",
      "  File \"/home/serapf/anaconda3/lib/python3.9/site-packages/urllib3/connectionpool.py\", line 703, in urlopen\n",
      "    httplib_response = self._make_request(\n",
      "  File \"/home/serapf/anaconda3/lib/python3.9/site-packages/urllib3/connectionpool.py\", line 398, in _make_request\n",
      "    conn.request(method, url, **httplib_request_kw)\n",
      "  File \"/home/serapf/anaconda3/lib/python3.9/site-packages/urllib3/connection.py\", line 239, in request\n",
      "    super(HTTPConnection, self).request(method, url, body=body, headers=headers)\n",
      "  File \"/home/serapf/anaconda3/lib/python3.9/http/client.py\", line 1285, in request\n",
      "    self._send_request(method, url, body, headers, encode_chunked)\n",
      "  File \"/home/serapf/anaconda3/lib/python3.9/http/client.py\", line 1331, in _send_request\n",
      "    self.endheaders(body, encode_chunked=encode_chunked)\n",
      "  File \"/home/serapf/anaconda3/lib/python3.9/http/client.py\", line 1280, in endheaders\n",
      "    self._send_output(message_body, encode_chunked=encode_chunked)\n",
      "  File \"/home/serapf/anaconda3/lib/python3.9/http/client.py\", line 1040, in _send_output\n",
      "    self.send(msg)\n",
      "  File \"/home/serapf/anaconda3/lib/python3.9/http/client.py\", line 980, in send\n",
      "    self.connect()\n",
      "  File \"/home/serapf/anaconda3/lib/python3.9/site-packages/urllib3/connection.py\", line 205, in connect\n",
      "    conn = self._new_conn()\n",
      "  File \"/home/serapf/anaconda3/lib/python3.9/site-packages/urllib3/connection.py\", line 186, in _new_conn\n",
      "    raise NewConnectionError(\n",
      "urllib3.exceptions.NewConnectionError: <urllib3.connection.HTTPConnection object at 0x7f3db2638910>: Failed to establish a new connection: [Errno 111] Connection refused\n"
     ]
    },
    {
     "name": "stderr",
     "output_type": "stream",
     "text": [
      "WARNING - elasticsearch -  HEAD http://localhost:9200/ [status:N/A request:0.001s]\n",
      "Traceback (most recent call last):\n",
      "  File \"/home/serapf/anaconda3/lib/python3.9/site-packages/urllib3/connection.py\", line 174, in _new_conn\n",
      "    conn = connection.create_connection(\n",
      "  File \"/home/serapf/anaconda3/lib/python3.9/site-packages/urllib3/util/connection.py\", line 95, in create_connection\n",
      "    raise err\n",
      "  File \"/home/serapf/anaconda3/lib/python3.9/site-packages/urllib3/util/connection.py\", line 85, in create_connection\n",
      "    sock.connect(sa)\n",
      "ConnectionRefusedError: [Errno 111] Connection refused\n",
      "\n",
      "During handling of the above exception, another exception occurred:\n",
      "\n",
      "Traceback (most recent call last):\n",
      "  File \"/home/serapf/anaconda3/lib/python3.9/site-packages/elasticsearch/connection/http_urllib3.py\", line 245, in perform_request\n",
      "    response = self.pool.urlopen(\n",
      "  File \"/home/serapf/anaconda3/lib/python3.9/site-packages/urllib3/connectionpool.py\", line 785, in urlopen\n",
      "    retries = retries.increment(\n",
      "  File \"/home/serapf/anaconda3/lib/python3.9/site-packages/urllib3/util/retry.py\", line 525, in increment\n",
      "    raise six.reraise(type(error), error, _stacktrace)\n",
      "  File \"/home/serapf/anaconda3/lib/python3.9/site-packages/urllib3/packages/six.py\", line 770, in reraise\n",
      "    raise value\n",
      "  File \"/home/serapf/anaconda3/lib/python3.9/site-packages/urllib3/connectionpool.py\", line 703, in urlopen\n",
      "    httplib_response = self._make_request(\n",
      "  File \"/home/serapf/anaconda3/lib/python3.9/site-packages/urllib3/connectionpool.py\", line 398, in _make_request\n",
      "    conn.request(method, url, **httplib_request_kw)\n",
      "  File \"/home/serapf/anaconda3/lib/python3.9/site-packages/urllib3/connection.py\", line 239, in request\n",
      "    super(HTTPConnection, self).request(method, url, body=body, headers=headers)\n",
      "  File \"/home/serapf/anaconda3/lib/python3.9/http/client.py\", line 1285, in request\n",
      "    self._send_request(method, url, body, headers, encode_chunked)\n",
      "  File \"/home/serapf/anaconda3/lib/python3.9/http/client.py\", line 1331, in _send_request\n",
      "    self.endheaders(body, encode_chunked=encode_chunked)\n",
      "  File \"/home/serapf/anaconda3/lib/python3.9/http/client.py\", line 1280, in endheaders\n",
      "    self._send_output(message_body, encode_chunked=encode_chunked)\n",
      "  File \"/home/serapf/anaconda3/lib/python3.9/http/client.py\", line 1040, in _send_output\n",
      "    self.send(msg)\n",
      "  File \"/home/serapf/anaconda3/lib/python3.9/http/client.py\", line 980, in send\n",
      "    self.connect()\n",
      "  File \"/home/serapf/anaconda3/lib/python3.9/site-packages/urllib3/connection.py\", line 205, in connect\n",
      "    conn = self._new_conn()\n",
      "  File \"/home/serapf/anaconda3/lib/python3.9/site-packages/urllib3/connection.py\", line 186, in _new_conn\n",
      "    raise NewConnectionError(\n",
      "urllib3.exceptions.NewConnectionError: <urllib3.connection.HTTPConnection object at 0x7f3db26389a0>: Failed to establish a new connection: [Errno 111] Connection refused\n"
     ]
    },
    {
     "ename": "ConnectionError",
     "evalue": "Initial connection to Elasticsearch failed. Make sure you run an Elasticsearch instance at `[{'host': 'localhost', 'port': 9200}]` and that it has finished the initial ramp up (can take > 30s).",
     "output_type": "error",
     "traceback": [
      "\u001b[0;31m---------------------------------------------------------------------------\u001b[0m",
      "\u001b[0;31mConnectionError\u001b[0m                           Traceback (most recent call last)",
      "File \u001b[0;32m~/anaconda3/lib/python3.9/site-packages/haystack/document_stores/elasticsearch.py:1832\u001b[0m, in \u001b[0;36mElasticsearchDocumentStore._init_elastic_client\u001b[0;34m(cls, host, port, username, password, api_key_id, api_key, aws4auth, scheme, ca_certs, verify_certs, timeout, use_system_proxy)\u001b[0m\n\u001b[1;32m   1831\u001b[0m         \u001b[38;5;28;01mif\u001b[39;00m \u001b[38;5;129;01mnot\u001b[39;00m status:\n\u001b[0;32m-> 1832\u001b[0m             \u001b[38;5;28;01mraise\u001b[39;00m \u001b[38;5;167;01mConnectionError\u001b[39;00m(\n\u001b[1;32m   1833\u001b[0m                 \u001b[38;5;124mf\u001b[39m\u001b[38;5;124m\"\u001b[39m\u001b[38;5;124mInitial connection to Elasticsearch failed. Make sure you run an Elasticsearch instance \u001b[39m\u001b[38;5;124m\"\u001b[39m\n\u001b[1;32m   1834\u001b[0m                 \u001b[38;5;124mf\u001b[39m\u001b[38;5;124m\"\u001b[39m\u001b[38;5;124mat `\u001b[39m\u001b[38;5;132;01m{\u001b[39;00mhosts\u001b[38;5;132;01m}\u001b[39;00m\u001b[38;5;124m` and that it has finished the initial ramp up (can take > 30s).\u001b[39m\u001b[38;5;124m\"\u001b[39m\n\u001b[1;32m   1835\u001b[0m             )\n\u001b[1;32m   1836\u001b[0m \u001b[38;5;28;01mexcept\u001b[39;00m \u001b[38;5;167;01mException\u001b[39;00m:\n",
      "\u001b[0;31mConnectionError\u001b[0m: Initial connection to Elasticsearch failed. Make sure you run an Elasticsearch instance at `[{'host': 'localhost', 'port': 9200}]` and that it has finished the initial ramp up (can take > 30s).",
      "\nDuring handling of the above exception, another exception occurred:\n",
      "\u001b[0;31mConnectionError\u001b[0m                           Traceback (most recent call last)",
      "Input \u001b[0;32mIn [2]\u001b[0m, in \u001b[0;36m<cell line: 1>\u001b[0;34m()\u001b[0m\n\u001b[0;32m----> 1\u001b[0m document_store \u001b[38;5;241m=\u001b[39m \u001b[43mElasticsearchDocumentStore\u001b[49m\u001b[43m(\u001b[49m\u001b[43mhost\u001b[49m\u001b[38;5;241;43m=\u001b[39;49m\u001b[38;5;124;43m'\u001b[39;49m\u001b[38;5;124;43mlocalhost\u001b[39;49m\u001b[38;5;124;43m'\u001b[39;49m\u001b[43m,\u001b[49m\u001b[43m \u001b[49m\u001b[43musername\u001b[49m\u001b[38;5;241;43m=\u001b[39;49m\u001b[38;5;124;43m'\u001b[39;49m\u001b[38;5;124;43m'\u001b[39;49m\u001b[43m,\u001b[49m\u001b[43m \u001b[49m\u001b[43mpassword\u001b[49m\u001b[38;5;241;43m=\u001b[39;49m\u001b[38;5;124;43m'\u001b[39;49m\u001b[38;5;124;43m'\u001b[39;49m\u001b[43m,\u001b[49m\u001b[43m \u001b[49m\u001b[43mindex\u001b[49m\u001b[38;5;241;43m=\u001b[39;49m\u001b[38;5;124;43m'\u001b[39;49m\u001b[38;5;124;43msquad_docs\u001b[39;49m\u001b[38;5;124;43m'\u001b[39;49m\u001b[43m)\u001b[49m\n",
      "File \u001b[0;32m~/anaconda3/lib/python3.9/site-packages/haystack/nodes/base.py:31\u001b[0m, in \u001b[0;36mexportable_to_yaml.<locals>.wrapper_exportable_to_yaml\u001b[0;34m(self, *args, **kwargs)\u001b[0m\n\u001b[1;32m     27\u001b[0m \u001b[38;5;129m@wraps\u001b[39m(init_func)\n\u001b[1;32m     28\u001b[0m \u001b[38;5;28;01mdef\u001b[39;00m \u001b[38;5;21mwrapper_exportable_to_yaml\u001b[39m(\u001b[38;5;28mself\u001b[39m, \u001b[38;5;241m*\u001b[39margs, \u001b[38;5;241m*\u001b[39m\u001b[38;5;241m*\u001b[39mkwargs):\n\u001b[1;32m     29\u001b[0m \n\u001b[1;32m     30\u001b[0m     \u001b[38;5;66;03m# Call the actuall __init__ function with all the arguments\u001b[39;00m\n\u001b[0;32m---> 31\u001b[0m     \u001b[43minit_func\u001b[49m\u001b[43m(\u001b[49m\u001b[38;5;28;43mself\u001b[39;49m\u001b[43m,\u001b[49m\u001b[43m \u001b[49m\u001b[38;5;241;43m*\u001b[39;49m\u001b[43margs\u001b[49m\u001b[43m,\u001b[49m\u001b[43m \u001b[49m\u001b[38;5;241;43m*\u001b[39;49m\u001b[38;5;241;43m*\u001b[39;49m\u001b[43mkwargs\u001b[49m\u001b[43m)\u001b[49m\n\u001b[1;32m     33\u001b[0m     \u001b[38;5;66;03m# Create the configuration dictionary if it doesn't exist yet\u001b[39;00m\n\u001b[1;32m     34\u001b[0m     \u001b[38;5;28;01mif\u001b[39;00m \u001b[38;5;129;01mnot\u001b[39;00m \u001b[38;5;28mself\u001b[39m\u001b[38;5;241m.\u001b[39m_component_config:\n",
      "File \u001b[0;32m~/anaconda3/lib/python3.9/site-packages/haystack/document_stores/elasticsearch.py:1715\u001b[0m, in \u001b[0;36mElasticsearchDocumentStore.__init__\u001b[0;34m(self, host, port, username, password, api_key_id, api_key, aws4auth, index, label_index, search_fields, content_field, name_field, embedding_field, embedding_dim, custom_mapping, excluded_meta_data, analyzer, scheme, ca_certs, verify_certs, recreate_index, create_index, refresh_type, similarity, timeout, return_embedding, duplicate_documents, index_type, scroll, skip_missing_embeddings, synonyms, synonym_type, use_system_proxy)\u001b[0m\n\u001b[1;32m   1640\u001b[0m \u001b[38;5;124;03m\"\"\"\u001b[39;00m\n\u001b[1;32m   1641\u001b[0m \u001b[38;5;124;03mA DocumentStore using Elasticsearch to store and query the documents for our search.\u001b[39;00m\n\u001b[1;32m   1642\u001b[0m \n\u001b[0;32m   (...)\u001b[0m\n\u001b[1;32m   1712\u001b[0m \n\u001b[1;32m   1713\u001b[0m \u001b[38;5;124;03m\"\"\"\u001b[39;00m\n\u001b[1;32m   1714\u001b[0m \u001b[38;5;66;03m# Base constructor might need the client to be ready, create it first\u001b[39;00m\n\u001b[0;32m-> 1715\u001b[0m client \u001b[38;5;241m=\u001b[39m \u001b[38;5;28;43mself\u001b[39;49m\u001b[38;5;241;43m.\u001b[39;49m\u001b[43m_init_elastic_client\u001b[49m\u001b[43m(\u001b[49m\n\u001b[1;32m   1716\u001b[0m \u001b[43m    \u001b[49m\u001b[43mhost\u001b[49m\u001b[38;5;241;43m=\u001b[39;49m\u001b[43mhost\u001b[49m\u001b[43m,\u001b[49m\n\u001b[1;32m   1717\u001b[0m \u001b[43m    \u001b[49m\u001b[43mport\u001b[49m\u001b[38;5;241;43m=\u001b[39;49m\u001b[43mport\u001b[49m\u001b[43m,\u001b[49m\n\u001b[1;32m   1718\u001b[0m \u001b[43m    \u001b[49m\u001b[43musername\u001b[49m\u001b[38;5;241;43m=\u001b[39;49m\u001b[43musername\u001b[49m\u001b[43m,\u001b[49m\n\u001b[1;32m   1719\u001b[0m \u001b[43m    \u001b[49m\u001b[43mpassword\u001b[49m\u001b[38;5;241;43m=\u001b[39;49m\u001b[43mpassword\u001b[49m\u001b[43m,\u001b[49m\n\u001b[1;32m   1720\u001b[0m \u001b[43m    \u001b[49m\u001b[43mapi_key\u001b[49m\u001b[38;5;241;43m=\u001b[39;49m\u001b[43mapi_key\u001b[49m\u001b[43m,\u001b[49m\n\u001b[1;32m   1721\u001b[0m \u001b[43m    \u001b[49m\u001b[43mapi_key_id\u001b[49m\u001b[38;5;241;43m=\u001b[39;49m\u001b[43mapi_key_id\u001b[49m\u001b[43m,\u001b[49m\n\u001b[1;32m   1722\u001b[0m \u001b[43m    \u001b[49m\u001b[43maws4auth\u001b[49m\u001b[38;5;241;43m=\u001b[39;49m\u001b[43maws4auth\u001b[49m\u001b[43m,\u001b[49m\n\u001b[1;32m   1723\u001b[0m \u001b[43m    \u001b[49m\u001b[43mscheme\u001b[49m\u001b[38;5;241;43m=\u001b[39;49m\u001b[43mscheme\u001b[49m\u001b[43m,\u001b[49m\n\u001b[1;32m   1724\u001b[0m \u001b[43m    \u001b[49m\u001b[43mca_certs\u001b[49m\u001b[38;5;241;43m=\u001b[39;49m\u001b[43mca_certs\u001b[49m\u001b[43m,\u001b[49m\n\u001b[1;32m   1725\u001b[0m \u001b[43m    \u001b[49m\u001b[43mverify_certs\u001b[49m\u001b[38;5;241;43m=\u001b[39;49m\u001b[43mverify_certs\u001b[49m\u001b[43m,\u001b[49m\n\u001b[1;32m   1726\u001b[0m \u001b[43m    \u001b[49m\u001b[43mtimeout\u001b[49m\u001b[38;5;241;43m=\u001b[39;49m\u001b[43mtimeout\u001b[49m\u001b[43m,\u001b[49m\n\u001b[1;32m   1727\u001b[0m \u001b[43m    \u001b[49m\u001b[43muse_system_proxy\u001b[49m\u001b[38;5;241;43m=\u001b[39;49m\u001b[43muse_system_proxy\u001b[49m\u001b[43m,\u001b[49m\n\u001b[1;32m   1728\u001b[0m \u001b[43m\u001b[49m\u001b[43m)\u001b[49m\n\u001b[1;32m   1730\u001b[0m \u001b[38;5;28msuper\u001b[39m()\u001b[38;5;241m.\u001b[39m\u001b[38;5;21m__init__\u001b[39m(\n\u001b[1;32m   1731\u001b[0m     client\u001b[38;5;241m=\u001b[39mclient,\n\u001b[1;32m   1732\u001b[0m     index\u001b[38;5;241m=\u001b[39mindex,\n\u001b[0;32m   (...)\u001b[0m\n\u001b[1;32m   1752\u001b[0m     synonym_type\u001b[38;5;241m=\u001b[39msynonym_type,\n\u001b[1;32m   1753\u001b[0m )\n",
      "File \u001b[0;32m~/anaconda3/lib/python3.9/site-packages/haystack/document_stores/elasticsearch.py:1837\u001b[0m, in \u001b[0;36mElasticsearchDocumentStore._init_elastic_client\u001b[0;34m(cls, host, port, username, password, api_key_id, api_key, aws4auth, scheme, ca_certs, verify_certs, timeout, use_system_proxy)\u001b[0m\n\u001b[1;32m   1832\u001b[0m             \u001b[38;5;28;01mraise\u001b[39;00m \u001b[38;5;167;01mConnectionError\u001b[39;00m(\n\u001b[1;32m   1833\u001b[0m                 \u001b[38;5;124mf\u001b[39m\u001b[38;5;124m\"\u001b[39m\u001b[38;5;124mInitial connection to Elasticsearch failed. Make sure you run an Elasticsearch instance \u001b[39m\u001b[38;5;124m\"\u001b[39m\n\u001b[1;32m   1834\u001b[0m                 \u001b[38;5;124mf\u001b[39m\u001b[38;5;124m\"\u001b[39m\u001b[38;5;124mat `\u001b[39m\u001b[38;5;132;01m{\u001b[39;00mhosts\u001b[38;5;132;01m}\u001b[39;00m\u001b[38;5;124m` and that it has finished the initial ramp up (can take > 30s).\u001b[39m\u001b[38;5;124m\"\u001b[39m\n\u001b[1;32m   1835\u001b[0m             )\n\u001b[1;32m   1836\u001b[0m \u001b[38;5;28;01mexcept\u001b[39;00m \u001b[38;5;167;01mException\u001b[39;00m:\n\u001b[0;32m-> 1837\u001b[0m     \u001b[38;5;28;01mraise\u001b[39;00m \u001b[38;5;167;01mConnectionError\u001b[39;00m(\n\u001b[1;32m   1838\u001b[0m         \u001b[38;5;124mf\u001b[39m\u001b[38;5;124m\"\u001b[39m\u001b[38;5;124mInitial connection to Elasticsearch failed. Make sure you run an Elasticsearch instance at `\u001b[39m\u001b[38;5;132;01m{\u001b[39;00mhosts\u001b[38;5;132;01m}\u001b[39;00m\u001b[38;5;124m` and that it has finished the initial ramp up (can take > 30s).\u001b[39m\u001b[38;5;124m\"\u001b[39m\n\u001b[1;32m   1839\u001b[0m     )\n\u001b[1;32m   1840\u001b[0m \u001b[38;5;28;01mreturn\u001b[39;00m client\n",
      "\u001b[0;31mConnectionError\u001b[0m: Initial connection to Elasticsearch failed. Make sure you run an Elasticsearch instance at `[{'host': 'localhost', 'port': 9200}]` and that it has finished the initial ramp up (can take > 30s)."
     ]
    }
   ],
   "source": [
    "document_store = ElasticsearchDocumentStore(host='localhost', username='', password='', index='squad_docs')"
   ]
  },
  {
   "cell_type": "markdown",
   "id": "541ca79a",
   "metadata": {},
   "source": [
    "Make the google query"
   ]
  },
  {
   "cell_type": "code",
   "execution_count": 82,
   "id": "aff7d042",
   "metadata": {},
   "outputs": [
    {
     "data": {
      "text/plain": [
       "['https://en.wikipedia.org/wiki/Hatsune_Miku',\n",
       " 'https://es.wikipedia.org/wiki/Miku_Hatsune',\n",
       " 'https://www.crypton.co.jp/miku_eng',\n",
       " 'https://vocaloid.fandom.com/wiki/Hatsune_Miku',\n",
       " 'https://vocaloid.fandom.com/es/wiki/Hatsune_Miku',\n",
       " 'https://www.nippon.com/es/japan-topics/g01038/',\n",
       " 'https://www.definitions.net/definition/hatsune%2Bmiku',\n",
       " 'https://www.dictionary.com/e/fictional-characters/hatsune-miku/',\n",
       " 'https://www.youtube.com/watch%3Fv%3DberD3I2RXTM',\n",
       " 'https://www.wmagazine.com/story/hatsune-miku-crypton-future',\n",
       " 'https://www.youtube.com/watch%3Fv%3D66J_A2__tl0',\n",
       " 'https://www.amazon.com.mx/Paquete-Vocaloid4-Hatsune-Miku-V4X/dp/B01G6XNQ5A',\n",
       " 'https://miku.sega.com/megamixplus/%3Flang%3Des',\n",
       " 'https://www.nintendo.com/es-mx/store/products/hatsune-miku-project-diva-mega-mix-switch/']"
      ]
     },
     "execution_count": 82,
     "metadata": {},
     "output_type": "execute_result"
    }
   ],
   "source": [
    "import requests\n",
    "from bs4 import BeautifulSoup\n",
    "from lxml import html\n",
    "import re\n",
    "from langdetect import detect\n",
    "\n",
    "\n",
    "query = \"history of japan\"\n",
    "\n",
    "valid_url = []\n",
    "\n",
    "searches = [\"what is hatsune miku\", \"hatsune miku\", \"hatsune miku\"]\n",
    "\n",
    "# to search\n",
    "    \n",
    "headers = {'Accept-Encoding': 'identity'}\n",
    "\n",
    "for query in searches:\n",
    "    r = requests.get(\"https://www.google.com/search?q=\"+query+\"&start=0\", headers=headers)\n",
    "\n",
    "    tree = html.fromstring(r.content)\n",
    "    urls = tree.xpath('//div[@class=\"egMi0 kCrYT\"]/a[@href]/@href')\n",
    "    urls = [url[7:].split(\"&\")[0] for url in urls]\n",
    "    \n",
    "    for url in urls:\n",
    "        \n",
    "        if url not in valid_url:\n",
    "            valid_url.append(url)\n",
    "valid_url"
   ]
  },
  {
   "cell_type": "code",
   "execution_count": 78,
   "id": "a0c16a2c",
   "metadata": {
    "scrolled": true
   },
   "outputs": [
    {
     "name": "stdout",
     "output_type": "stream",
     "text": [
      "<Response [200]>\n",
      "<Response [429]>\n",
      "<Response [200]>\n"
     ]
    },
    {
     "name": "stderr",
     "output_type": "stream",
     "text": [
      "Some characters could not be decoded, and were replaced with REPLACEMENT CHARACTER.\n"
     ]
    },
    {
     "name": "stdout",
     "output_type": "stream",
     "text": [
      "<Response [200]>\n",
      "<Response [200]>\n"
     ]
    }
   ],
   "source": [
    "\n",
    "\n",
    "pages = []\n",
    "\n",
    "min_words = 500\n",
    "    \n",
    "for url in valid_url:\n",
    "\n",
    "    r = requests.get(url)\n",
    "    print(r)\n",
    "    \n",
    "    innerHtml = r.content\n",
    "\n",
    "    ##Use BeautifulSoup to convert the html file to plain text\n",
    "    soup = BeautifulSoup(innerHtml, \"html.parser\")\n",
    "    html_text = soup.get_text()\n",
    "    html_text = re.sub('(?<=\\n)\\s+\\n', '\\n', html_text)\n",
    "    html_text = re.sub('\\s{2,}', '\\n', html_text)\n",
    "    html_text = re.sub('\\[\\d+]', '', html_text)\n",
    "\n",
    "\n",
    "    #Detect if the text is in english\n",
    "    language = detect(html_text)\n",
    "\n",
    "    if len(html_text.split(\" \")) > min_words and language == 'en':\n",
    "          ##Add the plain text to the rawdata list\n",
    "          pages.append(html_text)\n"
   ]
  },
  {
   "cell_type": "code",
   "execution_count": 12,
   "id": "c22cfb70",
   "metadata": {},
   "outputs": [
    {
     "data": {
      "text/plain": [
       "True"
      ]
     },
     "execution_count": 12,
     "metadata": {},
     "output_type": "execute_result"
    }
   ],
   "source": [
    "import requests\n",
    "r = requests.get(\"https://google.com\")\n",
    "r.ok"
   ]
  },
  {
   "cell_type": "code",
   "execution_count": 4,
   "id": "2112c65e",
   "metadata": {},
   "outputs": [
    {
     "name": "stdout",
     "output_type": "stream",
     "text": [
      "Help on function search in module googlesearch:\n",
      "\n",
      "search(query, tld='com', lang='en', tbs='0', safe='off', num=10, start=0, stop=None, pause=2.0, country='', extra_params=None, user_agent=None, verify_ssl=True)\n",
      "    Search the given query string using Google.\n",
      "    \n",
      "    :param str query: Query string. Must NOT be url-encoded.\n",
      "    :param str tld: Top level domain.\n",
      "    :param str lang: Language.\n",
      "    :param str tbs: Time limits (i.e \"qdr:h\" => last hour,\n",
      "        \"qdr:d\" => last 24 hours, \"qdr:m\" => last month).\n",
      "    :param str safe: Safe search.\n",
      "    :param int num: Number of results per page.\n",
      "    :param int start: First result to retrieve.\n",
      "    :param int stop: Last result to retrieve.\n",
      "        Use None to keep searching forever.\n",
      "    :param float pause: Lapse to wait between HTTP requests.\n",
      "        A lapse too long will make the search slow, but a lapse too short may\n",
      "        cause Google to block your IP. Your mileage may vary!\n",
      "    :param str country: Country or region to focus the search on. Similar to\n",
      "        changing the TLD, but does not yield exactly the same results.\n",
      "        Only Google knows why...\n",
      "    :param dict extra_params: A dictionary of extra HTTP GET\n",
      "        parameters, which must be URL encoded. For example if you don't want\n",
      "        Google to filter similar results you can set the extra_params to\n",
      "        {'filter': '0'} which will append '&filter=0' to every query.\n",
      "    :param str user_agent: User agent for the HTTP requests.\n",
      "        Use None for the default.\n",
      "    :param bool verify_ssl: Verify the SSL certificate to prevent\n",
      "        traffic interception attacks. Defaults to True.\n",
      "    \n",
      "    :rtype: generator of str\n",
      "    :return: Generator (iterator) that yields found URLs.\n",
      "        If the stop parameter is None the iterator will loop forever.\n",
      "\n"
     ]
    }
   ],
   "source": [
    "help(search)"
   ]
  },
  {
   "cell_type": "code",
   "execution_count": 10,
   "id": "5718591b",
   "metadata": {},
   "outputs": [
    {
     "data": {
      "text/plain": [
       "<Response [200]>"
      ]
     },
     "execution_count": 10,
     "metadata": {},
     "output_type": "execute_result"
    }
   ],
   "source": [
    "import requests\n",
    "\n",
    "requests.get(\"http://www.google.com?\")"
   ]
  },
  {
   "cell_type": "code",
   "execution_count": 231,
   "id": "013c00f5",
   "metadata": {
    "scrolled": true
   },
   "outputs": [
    {
     "data": {
      "text/plain": [
       "['https://en.wikipedia.org/wiki/Trigonometry',\n",
       " 'https://www.britannica.com/science/trigonometry',\n",
       " 'https://www.mathsisfun.com/algebra/trigonometry.html',\n",
       " 'https://www.youtube.com/watch?v=PUB0TaZ7bhA',\n",
       " 'https://www.cuemath.com/trigonometry/',\n",
       " 'https://byjus.com/maths/trigonometry/',\n",
       " 'https://www.skillsyouneed.com/num/trigonometry.html',\n",
       " 'https://www2.clarku.edu/faculty/djoyce/trig/',\n",
       " 'https://mathworld.wolfram.com/Trigonometry.html',\n",
       " 'https://www.geogebra.org/t/trigonometry?lang=en',\n",
       " 'https://www.govst.edu/uploadedFiles/Academics/Colleges_and_Programs/CAS/Trigonometry_Short_Course_Tutorial_Lauren_Johnson.pdf',\n",
       " 'https://www.livescience.com/51026-what-is-trigonometry.html',\n",
       " 'https://www.wolframalpha.com/examples/mathematics/trigonometry',\n",
       " 'https://www.sfu.ca/math-coursenotes/Math%20157%20Course%20Notes/sec_Trigonometry.html',\n",
       " 'https://www.omnicalculator.com/math/trigonometry']"
      ]
     },
     "execution_count": 231,
     "metadata": {},
     "output_type": "execute_result"
    }
   ],
   "source": [
    "valid_url"
   ]
  },
  {
   "cell_type": "code",
   "execution_count": 232,
   "id": "878796f3",
   "metadata": {},
   "outputs": [
    {
     "name": "stderr",
     "output_type": "stream",
     "text": [
      "WARNING - bs4.dammit -  Some characters could not be decoded, and were replaced with REPLACEMENT CHARACTER.\n"
     ]
    }
   ],
   "source": [
    "import urllib\n",
    "from bs4 import BeautifulSoup\n",
    "from langdetect import detect\n",
    "import requests\n",
    "\n",
    "import re\n",
    "\n",
    "min_words = 400\n",
    "\n",
    "pages = []\n",
    "\n",
    "for url in valid_url:\n",
    "    \n",
    "    innerHtml = requests.get(url).content\n",
    "    \n",
    "    ##Use BeautifulSoup to convert the html file to plain text\n",
    "    soup = BeautifulSoup(innerHtml, \"html.parser\")\n",
    "    html_text = soup.get_text()\n",
    "    html_text = re.sub('(?<=\\n)\\s+\\n', '\\n', html_text)\n",
    "    html_text = re.sub('\\s{2,}', '\\n', html_text)\n",
    "    html_text = re.sub('\\[.]', '', html_text)\n",
    "\n",
    "    \n",
    "    #Detect if the text is in english\n",
    "    language = detect(html_text)\n",
    "    \n",
    "    if len(html_text.split(\" \")) > min_words and language == 'en':\n",
    "          ##Add the plain text to the rawdata list\n",
    "          pages.append(html_text)\n",
    "\n"
   ]
  },
  {
   "cell_type": "code",
   "execution_count": 233,
   "id": "b469abf2",
   "metadata": {
    "scrolled": false
   },
   "outputs": [
    {
     "data": {
      "text/plain": [
       "'\\nTrigonometry\\nIntroduction to Trigonometry\\nTrigonometry (from Greek trigonon \"triangle\" + metron \"measure\")\\nWant to learn Trigonometry? Here is a quick summary.\\nFollow the links for more, or go to Trigonometry Index\\nTrigonometry ... is all about triangles.\\nTrigonometry helps us find angles and distances, and is used a lot in science, engineering, video games, and more!\\nRight-Angled Triangle\\nThe triangle of most interest is the right-angled triangle. The right angle is shown by the little box in the corner:\\nAnother angle is often labeled θ, and the three sides are then called:\\nAdjacent: adjacent (next to) the angle θ\\nOpposite: opposite the angle θ\\nand the longest side is the Hypotenuse\\nWhy a Right-Angled Triangle?\\nWhy is this triangle so important?\\nImagine we can measure along and up but want to know the direct distance and angle:\\nTrigonometry can find that missing angle and distance.\\nOr maybe we have a distance and angle and need to \"plot the dot\" along and up:\\nQuestions like these are common in engineering, computer animation and more.\\nAnd trigonometry gives the answers!\\nSine, Cosine and Tangent\\nThe main functions in trigonometry are\\nSine, Cosine and Tangent\\nThey are simply one side of a right-angled triangle divided by another.\\nFor any angle \"θ\":\\n(Sine, Cosine and Tangent are often abbreviated to sin, cos and tan.)\\nExample: What is the sine of 35°?\\nUsing this triangle (lengths are only to one decimal place):\\nsin(35°) = OppositeHypotenuse = 2.84.9 = 0.57...\\nThe triangle could be larger, smaller or turned around, but that angle\\nwill always have that ratio.\\nCalculators have sin, cos and tan to help us, so let\\'s see how to use them:\\nExample: How Tall is The Tree?\\nWe can\\'t reach the top of the tree, so\\nwe\\nwalk away and measure an angle (using a protractor) and distance (using a laser):\\nWe know the Hypotenuse\\nAnd we want to know the Opposite\\nSine is the ratio of Opposite / Hypotenuse:\\nsin(45°) =\\nOpposite\\nHypotenuse\\nGet a calculator, type in \"45\", then the \"sin\" key:\\nsin(45°) = 0.7071...\\nWhat does the 0.7071... mean? It is the ratio of the side lengths, so\\nthe Opposite is about 0.7071 times as long as the Hypotenuse.\\nWe can now put 0.7071... in place of sin(45°):\\n0.7071... =\\nOpposite Hypotenuse\\nAnd we also know the hypotenuse is 20:\\n0.7071... =\\nOpposite 20\\nTo solve, first multiply both sides by 20:\\n20 × 0.7071... = Opposite\\nFinally:\\nOpposite = 14.14m (to 2 decimals)\\nWhen you gain more experience you can do it quickly like this:\\nExample: How Tall is The Tree?\\nStart with:sin(45°) =\\nOpposite\\nHypotenuse\\nWe know:0.7071... =\\nOpposite\\n20\\nSwap sides:\\nOpposite\\n20\\n= 0.7071...\\nMultiply both sides by 20: Opposite = 0.7071... × 20\\nCalculate:Opposite = 14.14\\n(to 2 decimals)\\nThe tree is 14.14m tall\\nTry Sin Cos and Tan\\nPlay with this for a while (move the mouse around) and get familiar with values of sine, cosine and tangent for different angles, such as 0°, 30°, 45°, 60° and 90°.\\n../algebra/images/circle-triangle.js\\nAlso try 120°, 135°, 180°, 240°, 270° etc, and notice that positions can be positive or negative by the rules of Cartesian coordinates, so the sine, cosine and tangent change between positive and negative also.\\nSo trigonometry is also about circles!\\nUnit Circle\\nWhat you just played with is the Unit Circle.\\nIt is a circle with a radius of 1 with its center at 0.\\nBecause the radius is 1, we can directly measure sine, cosine and tangent.\\nHere we see the sine function being made by the unit circle:\\nimages/circle-sine.js\\nNote: you can\\nsee the nice graphs made by sine, cosine and tangent.\\nDegrees and Radians\\nAngles can be in Degrees or Radians. Here are some examples:\\nAngle\\nDegrees\\nRadians\\nRight Angle\\n90°\\nπ/2\\n__ Straight Angle\\n180°\\nπ\\nFull Rotation\\n360°\\n2π\\nRepeating Pattern\\nBecause the angle is rotating around and around the circle the Sine, Cosine and Tangent functions repeat once every full rotation (see Amplitude, Period, Phase Shift\\nand Frequency).\\nWhen we want to calculate the function for an angle larger than a full rotation of 360° (2π radians) we subtract as many full rotations as needed to bring it back below 360° (2π radians):\\nExample: what is the cosine of 370°?\\n370° is greater than 360° so let us subtract 360°\\n370° − 360° = 10°\\ncos(370°) = cos(10°) = 0.985 (to 3 decimal places)\\nAnd when the angle is less than zero, just add full rotations.\\nExample: what is the sine of −3 radians?\\n−3 is less than 0 so let us add 2π radians\\n−3 + 2π = −3 + 6.283... = 3.283... radians\\nsin(−3) = sin(3.283...) = −0.141 (to 3 decimal places)\\nSolving Triangles\\nTrigonometry is also useful for general triangles, not just right-angled ones .\\nIt helps us in Solving Triangles. \"Solving\" means finding missing sides and angles.\\nExample: Find the Missing Angle \"C\"\\nAngle C can be found using angles of a triangle add to 180°:\\nSo C = 180° − 76° − 34° = 70°\\nWe can also find missing side lengths. The general rule is:\\nWhen we know any 3 of the sides or angles we can find the other 3\\n(except for the three angles case)\\nSee Solving Triangles for more details.\\nOther Functions (Cotangent, Secant, Cosecant)\\nSimilar to Sine, Cosine and Tangent, there are three other trigonometric functions which are made by dividing one side by another:\\nCosecant Function:\\ncsc(θ) =\\nHypotenuse\\xa0/\\xa0Opposite\\nSecant Function:\\nsec(θ) =\\nHypotenuse\\xa0/\\xa0Adjacent\\nCotangent Function:\\ncot(θ) =\\nAdjacent\\xa0/\\xa0Opposite\\nTrigonometric and Triangle Identities\\nAnd as you get better at Trigonometry you can learn these:\\nThe Trigonometric Identities are equations that are true for all right-angled triangles.\\nThe Triangle Identities are equations that are true for all triangles (they don\\'t have to have a right angle).\\nEnjoy becoming a triangle (and circle) expert!\\nTrigonometry Index\\nSine, Cosine and Tangent\\nUnit Circle\\nAlgebra Index\\nCopyright © 2022 Rod Pierce\\n'"
      ]
     },
     "execution_count": 233,
     "metadata": {},
     "output_type": "execute_result"
    }
   ],
   "source": [
    "pages[2]"
   ]
  },
  {
   "cell_type": "markdown",
   "id": "1cfb0021",
   "metadata": {},
   "source": [
    "Paragraph selector"
   ]
  },
  {
   "cell_type": "code",
   "execution_count": 234,
   "id": "20cfba83",
   "metadata": {},
   "outputs": [],
   "source": [
    "min_words_per_paragraph = 40\n",
    "\n",
    "contexts = []\n",
    "\n",
    "for page in pages:\n",
    "    \n",
    "    paragraphs = page.split(\"\\n\")\n",
    "    \n",
    "    for paragraph in paragraphs:\n",
    "        \n",
    "        size = len(paragraph.split(\" \"))\n",
    "    \n",
    "        if size >= min_words_per_paragraph:\n",
    "            contexts.append(paragraph)\n",
    "    \n"
   ]
  },
  {
   "cell_type": "code",
   "execution_count": 235,
   "id": "ef3c4115",
   "metadata": {},
   "outputs": [
    {
     "data": {
      "text/plain": [
       "96"
      ]
     },
     "execution_count": 235,
     "metadata": {},
     "output_type": "execute_result"
    }
   ],
   "source": [
    "len(contexts)"
   ]
  },
  {
   "cell_type": "code",
   "execution_count": 236,
   "id": "291ee4b0",
   "metadata": {},
   "outputs": [
    {
     "data": {
      "text/plain": [
       "'In Diagram ii, we have rotated the radius further in an anti-clockwise direction, past the vertical (y axis) into the next quadrant. Here θ is an obtuse angle, between 90° and 180°. The reference angle alpha α is equal to 180° − θ, and is the acute angle within the right-angled triangle.'"
      ]
     },
     "execution_count": 236,
     "metadata": {},
     "output_type": "execute_result"
    }
   ],
   "source": [
    "contexts[50]"
   ]
  },
  {
   "cell_type": "code",
   "execution_count": 237,
   "id": "191ebabe",
   "metadata": {},
   "outputs": [],
   "source": [
    "squad_docs = []\n",
    "\n",
    "for context in contexts:\n",
    "    squad_docs.append({\n",
    "        'content': context\n",
    "    })"
   ]
  },
  {
   "cell_type": "markdown",
   "id": "5382a8b6",
   "metadata": {},
   "source": [
    "Put data in"
   ]
  },
  {
   "cell_type": "code",
   "execution_count": 238,
   "id": "52afc6ae",
   "metadata": {},
   "outputs": [],
   "source": [
    "document_store.write_documents(squad_docs)"
   ]
  },
  {
   "cell_type": "markdown",
   "id": "0f5de1d2",
   "metadata": {},
   "source": [
    "Retrive"
   ]
  },
  {
   "cell_type": "code",
   "execution_count": 239,
   "id": "52bcd62f",
   "metadata": {},
   "outputs": [],
   "source": [
    "from haystack.retriever.sparse import BM25Retriever\n",
    "\n",
    "retriever = BM25Retriever(document_store)"
   ]
  },
  {
   "cell_type": "code",
   "execution_count": 69,
   "id": "f17d039f",
   "metadata": {
    "scrolled": false
   },
   "outputs": [
    {
     "ename": "NameError",
     "evalue": "name 'retriever' is not defined",
     "output_type": "error",
     "traceback": [
      "\u001b[0;31m---------------------------------------------------------------------------\u001b[0m",
      "\u001b[0;31mNameError\u001b[0m                                 Traceback (most recent call last)",
      "Input \u001b[0;32mIn [69]\u001b[0m, in \u001b[0;36m<cell line: 1>\u001b[0;34m()\u001b[0m\n\u001b[0;32m----> 1\u001b[0m \u001b[43mretriever\u001b[49m\u001b[38;5;241m.\u001b[39mretrieve(\u001b[38;5;124m\"\u001b[39m\u001b[38;5;124mWhen was UNAM created?\u001b[39m\u001b[38;5;124m\"\u001b[39m)\n",
      "\u001b[0;31mNameError\u001b[0m: name 'retriever' is not defined"
     ]
    }
   ],
   "source": [
    "retriever.retrieve(\"When was UNAM created?\")"
   ]
  },
  {
   "cell_type": "code",
   "execution_count": 211,
   "id": "e55a2ab7",
   "metadata": {},
   "outputs": [
    {
     "data": {
      "text/plain": [
       "{'took': 1,\n",
       " 'timed_out': False,\n",
       " 'total': 0,\n",
       " 'deleted': 0,\n",
       " 'batches': 0,\n",
       " 'version_conflicts': 0,\n",
       " 'noops': 0,\n",
       " 'retries': {'bulk': 0, 'search': 0},\n",
       " 'throttled_millis': 0,\n",
       " 'requests_per_second': -1.0,\n",
       " 'throttled_until_millis': 0,\n",
       " 'failures': []}"
      ]
     },
     "execution_count": 211,
     "metadata": {},
     "output_type": "execute_result"
    }
   ],
   "source": [
    "\n",
    "\n",
    "res = requests.post('http://localhost:9200/squad_docs/_delete_by_query',\n",
    "                    json={\n",
    "                        'query': {\n",
    "                            'match_all': {}\n",
    "                        }\n",
    "                    })\n",
    "\n",
    "res.json()"
   ]
  },
  {
   "cell_type": "code",
   "execution_count": 67,
   "id": "2bcd7f90",
   "metadata": {},
   "outputs": [
    {
     "name": "stdout",
     "output_type": "stream",
     "text": [
      "what is sadness?\n",
      "sadness\n"
     ]
    }
   ],
   "source": [
    "\n",
    "\n",
    "import spacy\n",
    "\n",
    "text = \"What is sadness?\"\n",
    "\n",
    "text = text.lower()\n",
    "\n",
    "# First search - complete question\n",
    "\n",
    "print(text)            \n",
    "# Second search - search phrase\n",
    "                   \n",
    "nlp = spacy.load(\"en_core_web_sm\")\n",
    "doc = nlp(text)\n",
    "\n",
    "phrase = ' '.join([token.lemma_ for token in doc if not token.is_stop and token.is_alpha])\n",
    "\n",
    "print(phrase)\n",
    "\n",
    "# Third search - Nouns in phrase\n",
    "\n"
   ]
  },
  {
   "cell_type": "code",
   "execution_count": 68,
   "id": "6ce7d312",
   "metadata": {},
   "outputs": [
    {
     "name": "stdout",
     "output_type": "stream",
     "text": [
      "['sadness']\n",
      "what what PRON WP nsubj xxxx True True\n",
      "is be AUX VBZ ROOT xx True True\n",
      "sadness sadness NOUN NN acomp xxxx True False\n",
      "? ? PUNCT . punct ? False False\n"
     ]
    }
   ],
   "source": [
    "import spacy\n",
    "\n",
    "nlp = spacy.load(\"en_core_web_sm\")\n",
    "doc = nlp(text)\n",
    "\n",
    "list_of_names = []\n",
    "current = False\n",
    "\n",
    "for token in doc:\n",
    "    \n",
    "    if token.pos_ == 'PROPN' or token.pos_ == \"NOUN\" or token.pos_ == \"ADJ\":\n",
    "        \n",
    "        if not current:\n",
    "            current = True\n",
    "            list_of_names.append(token.text)\n",
    "        else:\n",
    "            list_of_names[-1] = list_of_names[-1] + \" \" + token.text\n",
    "    else:\n",
    "        current = False\n",
    "    \n",
    "\n",
    "print(list_of_names)\n",
    "\n",
    "for token in doc:\n",
    "    print(token.text, token.lemma_, token.pos_, token.tag_, token.dep_,\n",
    "            token.shape_, token.is_alpha, token.is_stop)\n",
    "    "
   ]
  },
  {
   "cell_type": "code",
   "execution_count": 51,
   "id": "c61e7123",
   "metadata": {},
   "outputs": [
    {
     "data": {
      "text/plain": [
       "8"
      ]
     },
     "execution_count": 51,
     "metadata": {},
     "output_type": "execute_result"
    }
   ],
   "source": [
    "len(doc)"
   ]
  },
  {
   "cell_type": "code",
   "execution_count": null,
   "id": "79bf1938",
   "metadata": {},
   "outputs": [],
   "source": []
  }
 ],
 "metadata": {
  "kernelspec": {
   "display_name": "Python 3 (ipykernel)",
   "language": "python",
   "name": "python3"
  },
  "language_info": {
   "codemirror_mode": {
    "name": "ipython",
    "version": 3
   },
   "file_extension": ".py",
   "mimetype": "text/x-python",
   "name": "python",
   "nbconvert_exporter": "python",
   "pygments_lexer": "ipython3",
   "version": "3.9.12"
  }
 },
 "nbformat": 4,
 "nbformat_minor": 5
}
