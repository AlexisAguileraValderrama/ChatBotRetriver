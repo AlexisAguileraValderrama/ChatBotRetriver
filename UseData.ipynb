{
 "cells": [
  {
   "cell_type": "markdown",
   "id": "acd233c6",
   "metadata": {},
   "source": [
    "Intiate haystack database"
   ]
  },
  {
   "cell_type": "code",
   "execution_count": 6,
   "id": "bc02cb27",
   "metadata": {
    "scrolled": false
   },
   "outputs": [],
   "source": [
    "from haystack.document_stores.elasticsearch import ElasticsearchDocumentStore"
   ]
  },
  {
   "cell_type": "code",
   "execution_count": 7,
   "id": "27b7ed40",
   "metadata": {},
   "outputs": [],
   "source": [
    "document_store = ElasticsearchDocumentStore(host='localhost', username='', password='', index='squad_docs')"
   ]
  },
  {
   "cell_type": "code",
   "execution_count": 8,
   "id": "c1e12910",
   "metadata": {},
   "outputs": [
    {
     "data": {
      "text/plain": [
       "{'cluster_name': 'elasticsearch',\n",
       " 'status': 'yellow',\n",
       " 'timed_out': False,\n",
       " 'number_of_nodes': 1,\n",
       " 'number_of_data_nodes': 1,\n",
       " 'active_primary_shards': 4,\n",
       " 'active_shards': 4,\n",
       " 'relocating_shards': 0,\n",
       " 'initializing_shards': 0,\n",
       " 'unassigned_shards': 2,\n",
       " 'delayed_unassigned_shards': 0,\n",
       " 'number_of_pending_tasks': 0,\n",
       " 'number_of_in_flight_fetch': 0,\n",
       " 'task_max_waiting_in_queue_millis': 0,\n",
       " 'active_shards_percent_as_number': 66.66666666666666}"
      ]
     },
     "execution_count": 8,
     "metadata": {},
     "output_type": "execute_result"
    }
   ],
   "source": [
    "import requests\n",
    "res = requests.get('http://localhost:9200/_cluster/health')\n",
    "res.json()"
   ]
  },
  {
   "cell_type": "code",
   "execution_count": 9,
   "id": "e7b05991",
   "metadata": {},
   "outputs": [
    {
     "data": {
      "application/vnd.jupyter.widget-view+json": {
       "model_id": "f1484dcee332478986e7f99661bbf9b4",
       "version_major": 2,
       "version_minor": 0
      },
      "text/plain": [
       "Downloading:   0%|          | 0.00/571 [00:00<?, ?B/s]"
      ]
     },
     "metadata": {},
     "output_type": "display_data"
    },
    {
     "name": "stderr",
     "output_type": "stream",
     "text": [
      "2022-07-13 17:56:48.190524: W tensorflow/stream_executor/platform/default/dso_loader.cc:64] Could not load dynamic library 'libcuda.so.1'; dlerror: libcuda.so.1: cannot open shared object file: No such file or directory\n",
      "2022-07-13 17:56:48.190728: W tensorflow/stream_executor/cuda/cuda_driver.cc:269] failed call to cuInit: UNKNOWN ERROR (303)\n",
      "2022-07-13 17:56:48.190754: I tensorflow/stream_executor/cuda/cuda_diagnostics.cc:156] kernel driver does not appear to be running on this host (serapf-B450-AORUS-M): /proc/driver/nvidia/version does not exist\n",
      "2022-07-13 17:56:48.192630: I tensorflow/core/platform/cpu_feature_guard.cc:193] This TensorFlow binary is optimized with oneAPI Deep Neural Network Library (oneDNN) to use the following CPU instructions in performance-critical operations:  AVX2 FMA\n",
      "To enable them in other operations, rebuild TensorFlow with the appropriate compiler flags.\n"
     ]
    },
    {
     "data": {
      "application/vnd.jupyter.widget-view+json": {
       "model_id": "0d5a361ac7cc4d63bbe8e401e8272095",
       "version_major": 2,
       "version_minor": 0
      },
      "text/plain": [
       "Downloading:   0%|          | 0.00/473M [00:00<?, ?B/s]"
      ]
     },
     "metadata": {},
     "output_type": "display_data"
    },
    {
     "data": {
      "application/vnd.jupyter.widget-view+json": {
       "model_id": "369da5ec506a4348bfa0a8f114fce2e2",
       "version_major": 2,
       "version_minor": 0
      },
      "text/plain": [
       "Downloading:   0%|          | 0.00/79.0 [00:00<?, ?B/s]"
      ]
     },
     "metadata": {},
     "output_type": "display_data"
    },
    {
     "data": {
      "application/vnd.jupyter.widget-view+json": {
       "model_id": "f172dc2d4af7431e8ab38efa0aceffcb",
       "version_major": 2,
       "version_minor": 0
      },
      "text/plain": [
       "Downloading:   0%|          | 0.00/878k [00:00<?, ?B/s]"
      ]
     },
     "metadata": {},
     "output_type": "display_data"
    },
    {
     "data": {
      "application/vnd.jupyter.widget-view+json": {
       "model_id": "d0208327f0c04aa08bc11ce64bdbac35",
       "version_major": 2,
       "version_minor": 0
      },
      "text/plain": [
       "Downloading:   0%|          | 0.00/446k [00:00<?, ?B/s]"
      ]
     },
     "metadata": {},
     "output_type": "display_data"
    },
    {
     "data": {
      "application/vnd.jupyter.widget-view+json": {
       "model_id": "bdb55957399a4797b97b6cfdf1cd8591",
       "version_major": 2,
       "version_minor": 0
      },
      "text/plain": [
       "Downloading:   0%|          | 0.00/772 [00:00<?, ?B/s]"
      ]
     },
     "metadata": {},
     "output_type": "display_data"
    }
   ],
   "source": [
    "from transformers import AutoModelForQuestionAnswering, AutoTokenizer, pipeline\n",
    "\n",
    "model_name = \"deepset/roberta-base-squad2\"\n",
    "\n",
    "# a) Get predictions\n",
    "nlp = pipeline('question-answering', model=model_name, tokenizer=model_name)"
   ]
  },
  {
   "cell_type": "code",
   "execution_count": 10,
   "id": "31e34610",
   "metadata": {},
   "outputs": [],
   "source": [
    "from haystack.retriever.sparse import BM25Retriever"
   ]
  },
  {
   "cell_type": "code",
   "execution_count": 11,
   "id": "55c57443",
   "metadata": {},
   "outputs": [],
   "source": [
    "retriever = BM25Retriever(document_store)"
   ]
  },
  {
   "cell_type": "code",
   "execution_count": 335,
   "id": "a493fd1c",
   "metadata": {},
   "outputs": [],
   "source": [
    "query = \"When can i use trigonometric?\""
   ]
  },
  {
   "cell_type": "code",
   "execution_count": 336,
   "id": "5d5c43da",
   "metadata": {
    "scrolled": true
   },
   "outputs": [],
   "source": [
    "responses = retriever.retrieve(query)"
   ]
  },
  {
   "cell_type": "code",
   "execution_count": null,
   "id": "8b06d4f4",
   "metadata": {},
   "outputs": [],
   "source": []
  },
  {
   "cell_type": "code",
   "execution_count": 337,
   "id": "293efc31",
   "metadata": {},
   "outputs": [
    {
     "data": {
      "text/plain": [
       "[<Document: {'content': 'Trigonometry can be hard at first, but after some practise you will master it! Here are some trigonometry tips: label the hypotenuse, adjacent and opposite on your triangle to help you figure out what identity to use, and remember the mnemonic SOHCAHTOA for the trigonometric relationships!', 'content_type': 'text', 'score': 0.7048246969267418, 'meta': {}, 'embedding': None, 'id': '2d06271e0c86e212586b7f081dd5963'}>,\n",
       " <Document: {'content': \"In the 3rd century BC, Hellenistic mathematicians such as Euclid and Archimedes studied the properties of chords and inscribed angles in circles, and they proved theorems that are equivalent to modern trigonometric formulae, although they presented them geometrically rather than algebraically. In 140 BC, Hipparchus (from Nicaea, Asia Minor) gave the first tables of chords, analogous to modern tables of sine values, and used them to solve problems in trigonometry and spherical trigonometry.[11] In the 2nd century AD, the Greco-Egyptian astronomer Ptolemy (from Alexandria, Egypt) constructed detailed trigonometric tables (Ptolemy's table of chords) in Book 1, chapter 11 of his Almagest.[12] Ptolemy used chord length to define his trigonometric functions, a minor difference from the sine convention we use today.[13] (The value we call sin(θ) can be found by looking up the chord length for twice the angle of interest (2θ) in Ptolemy's table, and then dividing that value by two.) Centuries passed before more detailed tables were produced, and Ptolemy's treatise remained in use for performing trigonometric calculations in astronomy throughout the next 1200 years in the medieval Byzantine, Islamic, and, later, Western European worlds.\", 'content_type': 'text', 'score': 0.6816739842029961, 'meta': {}, 'embedding': None, 'id': '9aa5862ad4d54779426b3ae81bd4faaf'}>,\n",
       " <Document: {'content': 'Trigonometric angles are the angles in a right-angled triangle using which different trigonometric functions can be represented. Some standard angles used in trigonometry are 0º, 30º, 45º, 60º, 90º. The trigonometric values for these angles can be observed directly in a trigonometric table. Some other important angles in trigonometry are 180º, 270º, and 360º. Trigonometry angle can be expressed in terms of trigonometric ratios as,', 'content_type': 'text', 'score': 0.6721182462061258, 'meta': {}, 'embedding': None, 'id': '1c8a88f687e4793cc55cfb1bd50c69bd'}>,\n",
       " <Document: {'content': 'Trigonometry has many real-life examples used broadly. Let’s get a better idea of trigonometry with an example. A boy is standing near a tree. He looks up at the tree and wonders “How tall is the tree?” The height of the tree can be found without actually measuring it. What we have here is a right-angled triangle, i.e., a triangle with one of the angles equal to 90 degrees. Trigonometric formulas can be applied to calculate the height of the tree, if the distance between the tree and boy, and the angle formed when the tree is viewed from the ground is given.', 'content_type': 'text', 'score': 0.671290655076902, 'meta': {}, 'embedding': None, 'id': 'aec3071c72fba8dee4b8a99f3e95389c'}>,\n",
       " <Document: {'content': 'Therefore, cosine and secant are the even trigonometric functions, whereas sine, tangent, cosecant and cotangent are the odd trigonometric functions. If we know the even and odd trigonometric functions, it helps us to simplify the trigonometric expression when the variable inside the trigonometric function is negative.', 'content_type': 'text', 'score': 0.6688071210075446, 'meta': {}, 'embedding': None, 'id': '7b82c53a85d8192f63c7398c935d654a'}>,\n",
       " <Document: {'content': 'The first triangle should be easy to remember. To remember the second triangle, place the largest number (\\\\(2\\\\)) across from the largest angle (\\\\(90^\\\\circ=\\\\pi/2\\\\)). Place the smallest number (\\\\(1\\\\)) across from the smallest angle (\\\\(30^\\\\circ=\\\\pi/6\\\\)). Place the middle number (\\\\(\\\\sqrt 3\\\\approx 1.73\\\\)) across from the middle angle (\\\\(60^\\\\circ=\\\\pi/3\\\\)). Double check using the Pythagorean Theorem that the sides satisfy \\\\(a^2+b^2=c^2\\\\text{.}\\\\)The special triangles allow us to compute the exact value (excluding the sign) of trigonometric ratios, but to determine the sign, we can use the CAST Rule.', 'content_type': 'text', 'score': 0.6669628773448173, 'meta': {}, 'embedding': None, 'id': '4204d1e87e2a3e420e3cb9dcc181d019'}>,\n",
       " <Document: {'content': 'Many different fields of science and engineering use trigonometry and trigonometric functions, to mention only a few of them: music, acoustics, electronics, medicine and medical imaging, biology, chemistry, meteorology, electrical, mechanical and civil engineering, even economics... The trigonometric functions are really all around us!', 'content_type': 'text', 'score': 0.6658630322259038, 'meta': {}, 'embedding': None, 'id': '48afcfbdf4dbd2a89afca689d0db51cc'}>,\n",
       " <Document: {'content': 'Thus, either \\\\(\\\\sin x=0\\\\) or \\\\(\\\\cos x = 1/2\\\\text{.}\\\\) For the first case when \\\\(\\\\sin x = 0\\\\text{,}\\\\) we get \\\\(x=0\\\\) or \\\\(x=\\\\pi\\\\text{.}\\\\) For the second case when \\\\(\\\\cos x=1/2\\\\text{,}\\\\) we get \\\\(x=\\\\pi/3\\\\) (use the special triangles and CAST rule to get this). Thus, we have three solutions: \\\\(x=0\\\\text{,}\\\\) \\\\(x=\\\\pi/3\\\\text{,}\\\\) \\\\(x=\\\\pi\\\\text{.}\\\\)', 'content_type': 'text', 'score': 0.6643007246147159, 'meta': {}, 'embedding': None, 'id': '2923824f3f2239835203a08028d28f31'}>,\n",
       " <Document: {'content': 'You can see that when θ is 0, then so is sine. This makes sense when you look at the unit circle diagram above. When θ = 0, the adjacent and hypotenuse both lie along the positive x axis and the red line that shows the value of sin θ disappears (there is no triangle).', 'content_type': 'text', 'score': 0.6602794838466116, 'meta': {}, 'embedding': None, 'id': 'ea2b8e636d1636807831d653125e7d57'}>,\n",
       " <Document: {'content': 'In Trigonometric Identities, an equation is called an identity when it is true for all values of the variables involved. Similarly, an equation involving trigonometric ratios of an angle is called a trigonometric identity, if it is true for all values of the angles involved. In trigonometric identities, you will get to learn more about the Sum and Difference Identities.', 'content_type': 'text', 'score': 0.6595100750104183, 'meta': {}, 'embedding': None, 'id': 'edc292e6723cda7b419caf6986f9402b'}>]"
      ]
     },
     "execution_count": 337,
     "metadata": {},
     "output_type": "execute_result"
    }
   ],
   "source": [
    "responses"
   ]
  },
  {
   "cell_type": "code",
   "execution_count": 338,
   "id": "9b768ccc",
   "metadata": {},
   "outputs": [],
   "source": [
    "answers = []\n",
    "\n",
    "for response in responses:\n",
    "    QA_input = {\n",
    "        'question': query,\n",
    "        'context': response.to_dict()['content']\n",
    "    }\n",
    "    \n",
    "    answers.append(nlp(QA_input))\n",
    "    "
   ]
  },
  {
   "cell_type": "code",
   "execution_count": 339,
   "id": "bac47646",
   "metadata": {
    "scrolled": true
   },
   "outputs": [
    {
     "data": {
      "text/plain": [
       "[{'score': 0.4440689980983734,\n",
       "  'start': 39,\n",
       "  'end': 58,\n",
       "  'answer': 'after some practise'},\n",
       " {'score': 0.000796776614151895,\n",
       "  'start': 7,\n",
       "  'end': 21,\n",
       "  'answer': '3rd century BC'},\n",
       " {'score': 0.045763708651065826,\n",
       "  'start': 257,\n",
       "  'end': 290,\n",
       "  'answer': 'directly in a trigonometric table'},\n",
       " {'score': 0.05834931135177612,\n",
       "  'start': 452,\n",
       "  'end': 492,\n",
       "  'answer': 'if the distance between the tree and boy'},\n",
       " {'score': 0.497750461101532,\n",
       "  'start': 256,\n",
       "  'end': 319,\n",
       "  'answer': 'when the variable inside the trigonometric function is negative'},\n",
       " {'score': 0.0012609099503606558,\n",
       "  'start': 550,\n",
       "  'end': 597,\n",
       "  'answer': 'to determine the sign, we can use the CAST Rule'},\n",
       " {'score': 0.0593794509768486,\n",
       "  'start': 323,\n",
       "  'end': 336,\n",
       "  'answer': 'all around us'},\n",
       " {'score': 0.0033235102891921997,\n",
       "  'start': 213,\n",
       "  'end': 244,\n",
       "  'answer': 'special triangles and CAST rule'},\n",
       " {'score': 0.009226152673363686,\n",
       "  'start': 17,\n",
       "  'end': 28,\n",
       "  'answer': 'when θ is 0'},\n",
       " {'score': 0.015944087877869606,\n",
       "  'start': 223,\n",
       "  'end': 274,\n",
       "  'answer': 'if it is true for all values of the angles involved'}]"
      ]
     },
     "execution_count": 339,
     "metadata": {},
     "output_type": "execute_result"
    }
   ],
   "source": [
    "answers"
   ]
  },
  {
   "cell_type": "code",
   "execution_count": 340,
   "id": "6b4af43b",
   "metadata": {},
   "outputs": [],
   "source": [
    "finalAnswer = max(answers, key=lambda x:x['score'])['answer']"
   ]
  },
  {
   "cell_type": "code",
   "execution_count": 341,
   "id": "b0c30c79",
   "metadata": {},
   "outputs": [
    {
     "data": {
      "text/plain": [
       "'when the variable inside the trigonometric function is negative'"
      ]
     },
     "execution_count": 341,
     "metadata": {},
     "output_type": "execute_result"
    }
   ],
   "source": [
    "finalAnswer"
   ]
  },
  {
   "cell_type": "code",
   "execution_count": 344,
   "id": "272bba97",
   "metadata": {},
   "outputs": [
    {
     "name": "stdout",
     "output_type": "stream",
     "text": [
      "what is hatsune miku?\n",
      "a Vocaloid software voicebank\n",
      "when was hatsune miku created?\n",
      "2007\n"
     ]
    },
    {
     "ename": "KeyboardInterrupt",
     "evalue": "Interrupted by user",
     "output_type": "error",
     "traceback": [
      "\u001b[0;31m---------------------------------------------------------------------------\u001b[0m",
      "\u001b[0;31mKeyboardInterrupt\u001b[0m                         Traceback (most recent call last)",
      "Input \u001b[0;32mIn [344]\u001b[0m, in \u001b[0;36m<cell line: 2>\u001b[0;34m()\u001b[0m\n\u001b[1;32m      1\u001b[0m \u001b[38;5;28;01mwhile\u001b[39;00m \u001b[38;5;28;01mTrue\u001b[39;00m:\n\u001b[0;32m----> 2\u001b[0m     query \u001b[38;5;241m=\u001b[39m \u001b[38;5;28;43minput\u001b[39;49m\u001b[43m(\u001b[49m\u001b[43m)\u001b[49m\n\u001b[1;32m      3\u001b[0m     responses \u001b[38;5;241m=\u001b[39m retriever\u001b[38;5;241m.\u001b[39mretrieve(query)\n\u001b[1;32m      5\u001b[0m     answers \u001b[38;5;241m=\u001b[39m []\n",
      "File \u001b[0;32m~/anaconda3/lib/python3.9/site-packages/ipykernel/kernelbase.py:1075\u001b[0m, in \u001b[0;36mKernel.raw_input\u001b[0;34m(self, prompt)\u001b[0m\n\u001b[1;32m   1071\u001b[0m \u001b[38;5;28;01mif\u001b[39;00m \u001b[38;5;129;01mnot\u001b[39;00m \u001b[38;5;28mself\u001b[39m\u001b[38;5;241m.\u001b[39m_allow_stdin:\n\u001b[1;32m   1072\u001b[0m     \u001b[38;5;28;01mraise\u001b[39;00m StdinNotImplementedError(\n\u001b[1;32m   1073\u001b[0m         \u001b[38;5;124m\"\u001b[39m\u001b[38;5;124mraw_input was called, but this frontend does not support input requests.\u001b[39m\u001b[38;5;124m\"\u001b[39m\n\u001b[1;32m   1074\u001b[0m     )\n\u001b[0;32m-> 1075\u001b[0m \u001b[38;5;28;01mreturn\u001b[39;00m \u001b[38;5;28;43mself\u001b[39;49m\u001b[38;5;241;43m.\u001b[39;49m\u001b[43m_input_request\u001b[49m\u001b[43m(\u001b[49m\n\u001b[1;32m   1076\u001b[0m \u001b[43m    \u001b[49m\u001b[38;5;28;43mstr\u001b[39;49m\u001b[43m(\u001b[49m\u001b[43mprompt\u001b[49m\u001b[43m)\u001b[49m\u001b[43m,\u001b[49m\n\u001b[1;32m   1077\u001b[0m \u001b[43m    \u001b[49m\u001b[38;5;28;43mself\u001b[39;49m\u001b[38;5;241;43m.\u001b[39;49m\u001b[43m_parent_ident\u001b[49m\u001b[43m[\u001b[49m\u001b[38;5;124;43m\"\u001b[39;49m\u001b[38;5;124;43mshell\u001b[39;49m\u001b[38;5;124;43m\"\u001b[39;49m\u001b[43m]\u001b[49m\u001b[43m,\u001b[49m\n\u001b[1;32m   1078\u001b[0m \u001b[43m    \u001b[49m\u001b[38;5;28;43mself\u001b[39;49m\u001b[38;5;241;43m.\u001b[39;49m\u001b[43mget_parent\u001b[49m\u001b[43m(\u001b[49m\u001b[38;5;124;43m\"\u001b[39;49m\u001b[38;5;124;43mshell\u001b[39;49m\u001b[38;5;124;43m\"\u001b[39;49m\u001b[43m)\u001b[49m\u001b[43m,\u001b[49m\n\u001b[1;32m   1079\u001b[0m \u001b[43m    \u001b[49m\u001b[43mpassword\u001b[49m\u001b[38;5;241;43m=\u001b[39;49m\u001b[38;5;28;43;01mFalse\u001b[39;49;00m\u001b[43m,\u001b[49m\n\u001b[1;32m   1080\u001b[0m \u001b[43m\u001b[49m\u001b[43m)\u001b[49m\n",
      "File \u001b[0;32m~/anaconda3/lib/python3.9/site-packages/ipykernel/kernelbase.py:1120\u001b[0m, in \u001b[0;36mKernel._input_request\u001b[0;34m(self, prompt, ident, parent, password)\u001b[0m\n\u001b[1;32m   1117\u001b[0m             \u001b[38;5;28;01mbreak\u001b[39;00m\n\u001b[1;32m   1118\u001b[0m \u001b[38;5;28;01mexcept\u001b[39;00m \u001b[38;5;167;01mKeyboardInterrupt\u001b[39;00m:\n\u001b[1;32m   1119\u001b[0m     \u001b[38;5;66;03m# re-raise KeyboardInterrupt, to truncate traceback\u001b[39;00m\n\u001b[0;32m-> 1120\u001b[0m     \u001b[38;5;28;01mraise\u001b[39;00m \u001b[38;5;167;01mKeyboardInterrupt\u001b[39;00m(\u001b[38;5;124m\"\u001b[39m\u001b[38;5;124mInterrupted by user\u001b[39m\u001b[38;5;124m\"\u001b[39m) \u001b[38;5;28;01mfrom\u001b[39;00m \u001b[38;5;28mNone\u001b[39m\n\u001b[1;32m   1121\u001b[0m \u001b[38;5;28;01mexcept\u001b[39;00m \u001b[38;5;167;01mException\u001b[39;00m:\n\u001b[1;32m   1122\u001b[0m     \u001b[38;5;28mself\u001b[39m\u001b[38;5;241m.\u001b[39mlog\u001b[38;5;241m.\u001b[39mwarning(\u001b[38;5;124m\"\u001b[39m\u001b[38;5;124mInvalid Message:\u001b[39m\u001b[38;5;124m\"\u001b[39m, exc_info\u001b[38;5;241m=\u001b[39m\u001b[38;5;28;01mTrue\u001b[39;00m)\n",
      "\u001b[0;31mKeyboardInterrupt\u001b[0m: Interrupted by user"
     ]
    }
   ],
   "source": [
    "while True:\n",
    "    query = input()\n",
    "    responses = retriever.retrieve(query)\n",
    "    \n",
    "    answers = []\n",
    "\n",
    "    for response in responses:\n",
    "        QA_input = {\n",
    "            'question': query,\n",
    "            'context': response.to_dict()['content']\n",
    "        }\n",
    "\n",
    "        answers.append(nlp(QA_input))\n",
    "    \n",
    "    finalAnswer = max(answers, key=lambda x:x['score'])['answer']\n",
    "    \n",
    "    print(finalAnswer)\n",
    "    "
   ]
  },
  {
   "cell_type": "code",
   "execution_count": null,
   "id": "72c56b7e",
   "metadata": {},
   "outputs": [],
   "source": []
  },
  {
   "cell_type": "code",
   "execution_count": null,
   "id": "560b901b",
   "metadata": {},
   "outputs": [],
   "source": []
  }
 ],
 "metadata": {
  "kernelspec": {
   "display_name": "Python 3 (ipykernel)",
   "language": "python",
   "name": "python3"
  },
  "language_info": {
   "codemirror_mode": {
    "name": "ipython",
    "version": 3
   },
   "file_extension": ".py",
   "mimetype": "text/x-python",
   "name": "python",
   "nbconvert_exporter": "python",
   "pygments_lexer": "ipython3",
   "version": "3.9.12"
  }
 },
 "nbformat": 4,
 "nbformat_minor": 5
}
